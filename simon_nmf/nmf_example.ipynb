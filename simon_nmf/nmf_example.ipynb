{
 "cells": [
  {
   "cell_type": "markdown",
   "metadata": {
    "id": "a166aa01"
   },
   "source": [
    "# Prepare the conda environment"
   ]
  },
  {
   "cell_type": "markdown",
   "metadata": {
    "id": "6825c6f9"
   },
   "source": [
    "## Install the mini-conda and use it to install diffpy-cmi"
   ]
  },
  {
   "cell_type": "code",
   "execution_count": null,
   "metadata": {
    "colab": {
     "base_uri": "https://localhost:8080/"
    },
    "id": "389bbcac",
    "outputId": "c4ad8317-6db3-42ac-cefc-03d2f74894f8"
   },
   "outputs": [],
   "source": [
    "!echo $PYTHONPATH"
   ]
  },
  {
   "cell_type": "code",
   "execution_count": null,
   "metadata": {
    "colab": {
     "base_uri": "https://localhost:8080/"
    },
    "id": "5d97dea8",
    "outputId": "8fee513e-160a-4b24-cbb0-25a91801fa89"
   },
   "outputs": [],
   "source": [
    "%env PYTHONPATH="
   ]
  },
  {
   "cell_type": "code",
   "execution_count": null,
   "metadata": {
    "colab": {
     "base_uri": "https://localhost:8080/"
    },
    "id": "4107d153",
    "outputId": "1ef3d7bb-293a-4610-b43e-464c35a4833f"
   },
   "outputs": [],
   "source": [
    "%%bash\n",
    "MINICONDA_INSTALLER_SCRIPT=Miniconda3-latest-Linux-x86_64.sh\n",
    "MINICONDA_PREFIX=/usr/local\n",
    "wget https://repo.continuum.io/miniconda/$MINICONDA_INSTALLER_SCRIPT\n",
    "chmod +x $MINICONDA_INSTALLER_SCRIPT\n",
    "./$MINICONDA_INSTALLER_SCRIPT -b -f -p $MINICONDA_PREFIX"
   ]
  },
  {
   "cell_type": "code",
   "execution_count": null,
   "metadata": {
    "colab": {
     "base_uri": "https://localhost:8080/"
    },
    "id": "b1f9462c",
    "outputId": "92ec5b31-44af-42bc-f1ce-2f1d670c5c40"
   },
   "outputs": [],
   "source": [
    "!which conda"
   ]
  },
  {
   "cell_type": "code",
   "execution_count": null,
   "metadata": {
    "colab": {
     "base_uri": "https://localhost:8080/"
    },
    "id": "c0ce6b08",
    "outputId": "b6420c28-fa11-4630-f88b-992180961db6"
   },
   "outputs": [],
   "source": [
    "!conda --version"
   ]
  },
  {
   "cell_type": "code",
   "execution_count": null,
   "metadata": {
    "colab": {
     "base_uri": "https://localhost:8080/"
    },
    "id": "86afa7ec",
    "outputId": "b65e2749-e214-4942-bf32-fd347eaef8b5"
   },
   "outputs": [],
   "source": [
    "!conda create -n diffpy -c defaults -c diffpy python=3.7 diffpy-cmi scikit-learn scipy pandas numpy --yes"
   ]
  },
  {
   "cell_type": "code",
   "execution_count": null,
   "metadata": {
    "colab": {
     "base_uri": "https://localhost:8080/"
    },
    "id": "JuBFZHwJ0wR_",
    "outputId": "a5680beb-04e3-49c9-9f09-1ee16472e747"
   },
   "outputs": [],
   "source": [
    "!conda env list"
   ]
  },
  {
   "cell_type": "markdown",
   "metadata": {
    "id": "mU0fc0yU0wR_"
   },
   "source": [
    "## Configure the python to recognize the diffpy library"
   ]
  },
  {
   "cell_type": "code",
   "execution_count": null,
   "metadata": {
    "colab": {
     "base_uri": "https://localhost:8080/"
    },
    "id": "-rD9-hbA0wR_",
    "outputId": "b70409d5-cbe6-430d-81e5-45f07b2b76ad"
   },
   "outputs": [],
   "source": [
    "!ls /usr/local/envs/diffpy/lib/python3.7/site-packages/diffpy*"
   ]
  },
  {
   "cell_type": "code",
   "execution_count": null,
   "metadata": {
    "id": "LE7Z8iwI0wR_"
   },
   "outputs": [],
   "source": [
    "!cp -r /usr/local/envs/diffpy/lib/python3.7/site-packages/diffpy.srfit-3.0.0-py3.7.egg/diffpy/* /usr/local/envs/diffpy/lib/python3.7/site-packages/diffpy/\n",
    "!cp -r /usr/local/envs/diffpy/lib/python3.7/site-packages/diffpy.structure-3.0.1-py3.7.egg/diffpy/* /usr/local/envs/diffpy/lib/python3.7/site-packages/diffpy/\n",
    "!cp -r /usr/local/envs/diffpy/lib/python3.7/site-packages/diffpy.utils-3.0.0-py3.7.egg/diffpy/* /usr/local/envs/diffpy/lib/python3.7/site-packages/diffpy/"
   ]
  },
  {
   "cell_type": "code",
   "execution_count": null,
   "metadata": {
    "id": "BSPNNXPN0wSA"
   },
   "outputs": [],
   "source": [
    "import sys\n",
    "sys.path.insert(1, \"/usr/local/envs/diffpy/lib/python3.7/site-packages\")"
   ]
  },
  {
   "cell_type": "markdown",
   "metadata": {
    "id": "rf03EYDL0wSA"
   },
   "source": [
    "## Test if we can import diffpy"
   ]
  },
  {
   "cell_type": "code",
   "execution_count": null,
   "metadata": {
    "id": "nTPUclEH0wSA"
   },
   "outputs": [],
   "source": [
    "import diffpy.srfit\n",
    "import diffpy.srreal\n",
    "import diffpy.structure\n",
    "import diffpy.utils"
   ]
  },
  {
   "cell_type": "code",
   "execution_count": null,
   "metadata": {
    "colab": {
     "base_uri": "https://localhost:8080/"
    },
    "id": "819d14e8",
    "outputId": "c11067ca-7603-461b-a9b0-15cd813c0068"
   },
   "outputs": [],
   "source": [
    "!conda env list"
   ]
  },
  {
   "cell_type": "markdown",
   "metadata": {
    "id": "226efd77"
   },
   "source": [
    "## Configure the python to recognize the diffpy library"
   ]
  },
  {
   "cell_type": "code",
   "execution_count": null,
   "metadata": {
    "colab": {
     "base_uri": "https://localhost:8080/"
    },
    "id": "9cd4710d",
    "outputId": "0fd38e35-2bdf-4868-fc59-9ed0a8fe1e8a"
   },
   "outputs": [],
   "source": [
    "!ls /usr/local/envs/diffpy/lib/python3.7/site-packages/diffpy*"
   ]
  },
  {
   "cell_type": "code",
   "execution_count": null,
   "metadata": {
    "id": "9e2c1c53"
   },
   "outputs": [],
   "source": [
    "!cp -r /usr/local/envs/diffpy/lib/python3.7/site-packages/diffpy.srfit-3.0.0-py3.7.egg/diffpy/* /usr/local/envs/diffpy/lib/python3.7/site-packages/diffpy/\n",
    "!cp -r /usr/local/envs/diffpy/lib/python3.7/site-packages/diffpy.structure-3.0.1-py3.7.egg/diffpy/* /usr/local/envs/diffpy/lib/python3.7/site-packages/diffpy/\n",
    "!cp -r /usr/local/envs/diffpy/lib/python3.7/site-packages/diffpy.utils-3.0.0-py3.7.egg/diffpy/* /usr/local/envs/diffpy/lib/python3.7/site-packages/diffpy/"
   ]
  },
  {
   "cell_type": "code",
   "execution_count": null,
   "metadata": {
    "id": "24ed2d4c"
   },
   "outputs": [],
   "source": [
    "import sys\n",
    "sys.path.insert(1, \"/usr/local/envs/diffpy/lib/python3.7/site-packages\")"
   ]
  },
  {
   "cell_type": "markdown",
   "metadata": {
    "id": "6c9de328"
   },
   "source": [
    "## Test if we can import diffpy"
   ]
  },
  {
   "cell_type": "code",
   "execution_count": null,
   "metadata": {
    "id": "639e78f5"
   },
   "outputs": [],
   "source": [
    "import diffpy.srfit\n",
    "import diffpy.srreal\n",
    "import diffpy.structure\n",
    "import diffpy.utils"
   ]
  },
  {
   "cell_type": "markdown",
   "metadata": {
    "id": "8fDdZ1nj4VUT"
   },
   "source": [
    "## Download the data"
   ]
  },
  {
   "cell_type": "code",
   "execution_count": null,
   "metadata": {
    "colab": {
     "base_uri": "https://localhost:8080/"
    },
    "id": "CCX2iDkm4bZt",
    "outputId": "38b5a9a4-3a86-4662-8c8d-d647d79c4e12"
   },
   "outputs": [],
   "source": [
    "!git clone https://github.com/st3107/19sab_NMF_PCA_data.git"
   ]
  },
  {
   "cell_type": "code",
   "execution_count": null,
   "metadata": {
    "id": "UIx7zunq4sY4"
   },
   "outputs": [],
   "source": [
    "!cp -r 19sab_NMF_PCA_data/* /content/"
   ]
  },
  {
   "cell_type": "markdown",
   "metadata": {
    "id": "vlUeEgjt42D3"
   },
   "source": [
    "# Demo of NMF"
   ]
  },
  {
   "cell_type": "code",
   "execution_count": null,
   "metadata": {
    "id": "0qZC4Egc0H0H"
   },
   "outputs": [],
   "source": [
    "%matplotlib inline\n",
    "\n",
    "import os\n",
    "import string\n",
    "import numpy as np\n",
    "import pandas as pd\n",
    "import matplotlib as mpl\n",
    "import matplotlib.pyplot as plt\n",
    "import matplotlib.gridspec as gridspec\n",
    "from itertools import combinations\n",
    "from functools import partial\n",
    "\n",
    "import scipy\n",
    "from diffpy.structure import loadStructure\n",
    "from diffpy.srreal.pdfcalculator import PDFCalculator, DebyePDFCalculator\n",
    "from diffpy.srfit.pdf.characteristicfunctions import sphericalCF\n",
    "\n",
    "from sklearn.decomposition import PCA, NMF\n",
    "\n",
    "mpl.rcParams['figure.figsize'] = (8, 6)\n",
    "mpl.rcParams['figure.dpi'] = 120"
   ]
  },
  {
   "cell_type": "code",
   "execution_count": null,
   "metadata": {
    "id": "voC6GgXZ0H0I"
   },
   "outputs": [],
   "source": [
    "def norm_ar(ar):\n",
    "    return (ar - ar.min()) / (ar.max() - ar.min())"
   ]
  },
  {
   "cell_type": "code",
   "execution_count": null,
   "metadata": {
    "id": "q6HcXZJM0H0J"
   },
   "outputs": [],
   "source": [
    "cfg = dict(qmin=0.1, qmax=25, rmin=1.5, rmax=20, qdamp=0.1, qbroad=0.01)\n",
    "cal = PDFCalculator(**cfg)\n",
    "stru_ars = []\n",
    "stru_ars += [loadStructure('RuO2_tetragonal.cif')]\n",
    "#stru_ars += [loadStructure('LiO2.cif')]\n",
    "stru_ars += [loadStructure('LiRuO2_mp-28254_conventional_standard.cif')]\n",
    "#stru_ars += [loadStructure('LiRuO2_icsd.cif')]\n",
    "stru_ars += [loadStructure('Ru_mp-8639_conventional_standard.cif')]"
   ]
  },
  {
   "cell_type": "code",
   "execution_count": null,
   "metadata": {
    "colab": {
     "base_uri": "https://localhost:8080/"
    },
    "id": "tovlqPjc0H0K",
    "outputId": "25834eb6-391b-4fa4-be00-51a046d9fd02"
   },
   "outputs": [],
   "source": [
    "# check Uiso and fix if needed\n",
    "for s in stru_ars:\n",
    "    print(s.anisotropy, s.Uisoequiv, s.Bisoequiv)"
   ]
  },
  {
   "cell_type": "code",
   "execution_count": null,
   "metadata": {
    "colab": {
     "base_uri": "https://localhost:8080/",
     "height": 80
    },
    "id": "FeznSbWl0H0K",
    "outputId": "22d17a28-0fce-43e6-9bbd-6717fc351bdd"
   },
   "outputs": [],
   "source": [
    "#d = {k:s.Uisoequiv for k, s in zip(['RuO2_Uiso', 'LiO2_Uiso', 'Ru_Uiso'], stru_ars)}\n",
    "d = {}\n",
    "d.update(cfg)\n",
    "param_df = pd.DataFrame([d])\n",
    "param_df.to_csv('sim_exp_param.csv')\n",
    "\n",
    "param_df"
   ]
  },
  {
   "cell_type": "code",
   "execution_count": null,
   "metadata": {
    "id": "Pz-Gr1dm0H0K"
   },
   "outputs": [],
   "source": [
    "# sanity check on the cif selected\n",
    "\n",
    "stru_ars[1].Uisoequiv = 0.005\n",
    "#stru_ars[1].Uisoequiv *= 2\n",
    "\n",
    "stru_ars[-1].Uisoequiv = 0.004\n",
    "for s in stru_ars:\n",
    "    s.Uisoequiv *= 1.5\n",
    "#stru_ars[1].Uisoequiv *= 20"
   ]
  },
  {
   "cell_type": "code",
   "execution_count": null,
   "metadata": {
    "colab": {
     "base_uri": "https://localhost:8080/"
    },
    "id": "GK5EvRnG0H0L",
    "outputId": "f167de3f-11f4-4a0a-810c-d504af3e63cf"
   },
   "outputs": [],
   "source": [
    "for s in stru_ars:\n",
    "    print(s.Uisoequiv)"
   ]
  },
  {
   "cell_type": "code",
   "execution_count": null,
   "metadata": {
    "colab": {
     "base_uri": "https://localhost:8080/",
     "height": 894
    },
    "id": "eKwJzYmg0H0L",
    "outputId": "73d9d8b1-515e-429d-be99-06a87d2be92b"
   },
   "outputs": [],
   "source": [
    "fig, ax = plt.subplots(figsize=(6, 8), sharex=True)\n",
    "grs = []\n",
    "shift = 16\n",
    "for i, s in enumerate(stru_ars):\n",
    "    print(s.Uisoequiv)\n",
    "    r, g = cal(s)\n",
    "    if i == 2:\n",
    "        # add spherical form factor to NP\n",
    "        g *= sphericalCF(r, 15)\n",
    "    #g = norm_ar(g)\n",
    "    #shit = 1\n",
    "    ax.plot(r, g + i * shift)\n",
    "    grs += [g]\n",
    "ax.set_xlabel(r'r ($\\mathrm{\\AA}$)')\n",
    "ax.set_ylabel(r'G ($\\mathrm{\\AA}^{-2}$)')\n",
    "#fig.savefig('Input_phases.pdf')\n",
    "#fig.savefig('Input_phases.png')"
   ]
  },
  {
   "cell_type": "markdown",
   "metadata": {
    "id": "94Vk4NMf0H0L"
   },
   "source": [
    "# Compute angle between input Grs"
   ]
  },
  {
   "cell_type": "code",
   "execution_count": null,
   "metadata": {
    "id": "WhpZ1Vmj0H0M"
   },
   "outputs": [],
   "source": [
    "def angle_between_(v1, v2):\n",
    "    val = np.dot(v1, v2) / np.linalg.norm(v1) / np.linalg.norm(v2)\n",
    "    return np.arccos(np.clip(val, -1, 1))\n",
    "\n",
    "def angle_between(v1, v2):\n",
    "    val = np.dot(v1, v2) / np.linalg.norm(v1) / np.linalg.norm(v2)\n",
    "    return val"
   ]
  },
  {
   "cell_type": "code",
   "execution_count": null,
   "metadata": {
    "colab": {
     "base_uri": "https://localhost:8080/"
    },
    "id": "4RoFJT-T0H0N",
    "outputId": "e19cd56d-1354-4ee7-de0e-ef5aa9998025"
   },
   "outputs": [],
   "source": [
    "citer = combinations(grs, 2)\n",
    "for c in citer:\n",
    "    print(angle_between(*c))"
   ]
  },
  {
   "cell_type": "code",
   "execution_count": null,
   "metadata": {
    "id": "hf9dQI6M0H0N"
   },
   "outputs": [],
   "source": [
    "def linear_rep_cost(params, p1, p2, p_target=None):\n",
    "    c1, c2 = params\n",
    "    if p_target:\n",
    "        return (p1 * c1 + p2 * c2) - p_target\n",
    "    else:\n",
    "        return (p1 * c1 + p2 * c2)"
   ]
  },
  {
   "cell_type": "markdown",
   "metadata": {
    "id": "5UckPSVg0H0N"
   },
   "source": [
    "# generate ground truth of phase fraction"
   ]
  },
  {
   "cell_type": "code",
   "execution_count": null,
   "metadata": {
    "id": "99PN8sRg0H0O"
   },
   "outputs": [],
   "source": [
    "def logistic_func(x):\n",
    "    return np.exp(x) / (1 + np.exp(x))"
   ]
  },
  {
   "cell_type": "code",
   "execution_count": null,
   "metadata": {
    "colab": {
     "base_uri": "https://localhost:8080/",
     "height": 655
    },
    "id": "UPOC0LAl0H0O",
    "outputId": "1e3de986-01c8-4166-9b5f-b62bbb48e3ac"
   },
   "outputs": [],
   "source": [
    "unit, grid = 100, 50\n",
    "x = np.linspace(0.5, unit, grid)\n",
    "# initial phase -> second order so agressive drop\n",
    "t0 = (0.5 / 6  * unit)\n",
    "p0 = logistic_func(-(x - t0))\n",
    "\n",
    "# 2nd phase -> compliment with initial phase \n",
    "p1 = np.zeros_like(p0)\n",
    "p1 = 1- p0\n",
    "mask = x >= 1.2 * t0\n",
    "sig = unit * 0.4\n",
    "p1[mask] *= np.exp(-(x[mask]/sig)**4)\n",
    "\n",
    "# 3rd phase -> first order transition \n",
    "p2 = np.zeros_like(p1)\n",
    "p2[mask] = 1 - p0[mask] - p1[mask]\n",
    "p2 = 1 - p0 - p1\n",
    "\n",
    "fig, ax = plt.subplots()\n",
    "ax.plot(x, p0, '--s')\n",
    "ax.plot(x, p1, '--s')\n",
    "ax.plot(x, p2, '--s')\n",
    "\n",
    "sim_phase = (p0, p1, p2)\n",
    "# sanity check line\n",
    "#ax.plot(x, p0 + p1 + p2)\n",
    "#ax.axvline(t0, ls='--', color='k', alpha=0.5)\n",
    "\n",
    "ax.set_xlabel('Reaction time (a.u.)')\n",
    "ax.set_ylabel('Phase ratio')\n",
    "#fig.savefig('synthetic_phase_ratio.pdf')\n",
    "#fig.savefig('synthetic_phase_ratio.png')"
   ]
  },
  {
   "cell_type": "markdown",
   "metadata": {
    "id": "uOjpirCx0H0P"
   },
   "source": [
    "# Generate mixed Gr"
   ]
  },
  {
   "cell_type": "code",
   "execution_count": null,
   "metadata": {
    "colab": {
     "base_uri": "https://localhost:8080/"
    },
    "id": "wY8w4p2h0H0P",
    "outputId": "9b974fac-b451-45fb-a56a-8820dc67b46b"
   },
   "outputs": [],
   "source": [
    "# mixed ar\n",
    "mixed_ar = None\n",
    "for (g, p) in zip(grs, [p0, p1, p2]):\n",
    "    gr_frac = np.outer(g, p) \n",
    "    if mixed_ar is None:\n",
    "        mixed_ar = np.zeros_like(gr_frac)\n",
    "    mixed_ar += gr_frac\n",
    "mixed_ar = mixed_ar.T\n",
    "print(mixed_ar.shape)"
   ]
  },
  {
   "cell_type": "code",
   "execution_count": null,
   "metadata": {
    "id": "Ag9o0j3R0H0Q"
   },
   "outputs": [],
   "source": [
    "np.save('sim_raw_mixed_Gr', mixed_ar)"
   ]
  },
  {
   "cell_type": "code",
   "execution_count": null,
   "metadata": {
    "colab": {
     "base_uri": "https://localhost:8080/",
     "height": 1000
    },
    "id": "7hyorJKe0H0Q",
    "outputId": "cd9efa08-edf5-4529-a229-e916b4c8a5e9"
   },
   "outputs": [],
   "source": [
    "fig, ax = plt.subplots(figsize=(10, 15), dpi=120)\n",
    "shift = 5\n",
    "for i, ar in enumerate(mixed_ar[::2]):\n",
    "    ax.plot(r, ar + i * shift, c='C0', lw=2.5)\n",
    "ax.set_xlabel(r'r ($\\mathrm{\\AA}$)')\n",
    "ax.set_ylabel(r'G ($\\mathrm{\\AA}^{-2}$)')\n",
    "ax.text(0.88, 0.95, '(g)',\n",
    "        transform=ax.transAxes,\n",
    "        size=18,)            \n",
    "fig.savefig('Simulated_mixed_Grs.pdf')\n",
    "fig.savefig('Simulated_mixed_Grs.png')"
   ]
  },
  {
   "cell_type": "markdown",
   "metadata": {
    "id": "bsLp0BDz0H0R"
   },
   "source": [
    "# PCA and see the result"
   ]
  },
  {
   "cell_type": "code",
   "execution_count": null,
   "metadata": {
    "colab": {
     "base_uri": "https://localhost:8080/",
     "height": 1000
    },
    "id": "KX8grTlb0H0R",
    "outputId": "6290a324-37a0-4f03-c01c-7018dcef70af"
   },
   "outputs": [],
   "source": [
    "pca = PCA(n_components=0.99, random_state=23)\n",
    "pca.fit(mixed_ar)\n",
    "\n",
    "print(pca.explained_variance_ratio_)\n",
    "\n",
    "fig, ax = plt.subplots(figsize=(6, 8))\n",
    "#fig, (ax, ax1) = plt.subplots(1, 2, figsize=(10, 7))\n",
    "shift = 0.1\n",
    "for i, el in enumerate(pca.components_):\n",
    "    ax.plot(r, el + i * shift)\n",
    "ax.set_xlabel(r'r ($\\mathrm{\\AA}$)', size=18)\n",
    "ax.set_ylabel(r'$G^e$', size=18)\n",
    "fig.savefig('PCA_phases.pdf')\n",
    "fig.savefig('PCA_phases.png')\n",
    "\n",
    "#for i, el in enumerate(grs):\n",
    "#    ax1.plot(r, el + i * shift * 100)    \n",
    "#i += 1\n",
    "#ax.plot(r, mixed_ar.mean(0)/50 + i * shift)\n",
    "\n",
    "\n",
    "pca_weight = pca.transform(mixed_ar).T\n",
    "pca_weight /= 100\n",
    "#weight /= np.abs(weight).sum(1)[:, np.newaxis]\n",
    "fig, ax = plt.subplots()\n",
    "#fig, (ax, ax1) = plt.subplots(1, 2, figsize=(10, 7), sharey=True)\n",
    "for el in pca_weight:\n",
    "    ax.plot(el, '--s')\n",
    "ax.set_xlabel('Reaction time (a.u.)')\n",
    "ax.set_ylabel('Phase ratio')\n",
    "#fig.savefig('PCA_weights.pdf')\n",
    "#fig.savefig('PCA_weights.png')\n",
    "#for p in [p0, p1, p2]:\n",
    "#    ax1.plot(p)"
   ]
  },
  {
   "cell_type": "code",
   "execution_count": null,
   "metadata": {
    "colab": {
     "base_uri": "https://localhost:8080/",
     "height": 806
    },
    "id": "5NiQelIx0H0S",
    "outputId": "d566aa1f-35c6-41a6-ca95-aac7063dd626"
   },
   "outputs": [],
   "source": [
    "m = PCA(n_components=20, random_state=23)\n",
    "m.fit(mixed_ar)\n",
    "print(m.explained_variance_ratio_)\n",
    "fig, ax = plt.subplots(figsize=(6, 7))\n",
    "ax.plot(range(1, len(m.explained_variance_ratio_)+1),\n",
    "        m.explained_variance_ratio_, '--s', ms=10, mfc='C1')"
   ]
  },
  {
   "cell_type": "code",
   "execution_count": null,
   "metadata": {
    "id": "vUHoCVyV0H0S"
   },
   "outputs": [],
   "source": [
    "#%timeit m.fit(mixed_ar)"
   ]
  },
  {
   "cell_type": "markdown",
   "metadata": {
    "id": "zVAXcBzV0H0T"
   },
   "source": [
    "# sanity check, reconstructed arrays"
   ]
  },
  {
   "cell_type": "code",
   "execution_count": null,
   "metadata": {
    "colab": {
     "base_uri": "https://localhost:8080/",
     "height": 904
    },
    "id": "0-vanqy10H0T",
    "outputId": "ce386517-59ae-4db9-b492-c7f64fd67540"
   },
   "outputs": [],
   "source": [
    "a = pca.transform(mixed_ar)\n",
    "b = pca.inverse_transform(a)\n",
    "\n",
    "fig, (ax, ax2) = plt.subplots(2, 1, figsize=(6, 9))\n",
    "ax.plot(r, b[-1, :])\n",
    "ax2.plot(r, grs[-1])"
   ]
  },
  {
   "cell_type": "markdown",
   "metadata": {
    "id": "Q6ts0M0y0H0T"
   },
   "source": [
    "# NMF and see the result"
   ]
  },
  {
   "cell_type": "code",
   "execution_count": null,
   "metadata": {
    "id": "nYoBHXHD0H0T"
   },
   "outputs": [],
   "source": [
    "def nmf_shift(ars):\n",
    "    return ars - ars.flatten().min()"
   ]
  },
  {
   "cell_type": "code",
   "execution_count": null,
   "metadata": {
    "colab": {
     "base_uri": "https://localhost:8080/",
     "height": 1000
    },
    "id": "uuX67smp0H0U",
    "outputId": "2f4ad361-514a-49f3-f85f-3b7cfacb666d"
   },
   "outputs": [],
   "source": [
    "nmf_ar = nmf_shift(mixed_ar)\n",
    "fig, ax = plt.subplots(figsize=(6, 9), dpi=120)\n",
    "shift = 5\n",
    "for i, ar in enumerate(nmf_ar[::2]):\n",
    "    ax.plot(r, ar + i * shift, c='C0', lw=1.8)\n",
    "\n",
    "nmf_loss = []\n",
    "pca_loss = []\n",
    "sweeping_grid = range(1, 5 + 1, 1)\n",
    "for i in sweeping_grid: \n",
    "    m = NMF(n_components=i, random_state=23, max_iter=1000)\n",
    "    mm = PCA(n_components=i, random_state=23)\n",
    "    m.fit(nmf_ar)\n",
    "    mm.fit(mixed_ar)\n",
    "    nmf_loss += [m.reconstruction_err_]\n",
    "    recon = mm.inverse_transform(mm.transform(mixed_ar))\n",
    "    pca_loss += [np.square(mixed_ar - recon).sum()]\n",
    "pca_loss = np.asarray(pca_loss)\n",
    "nmf_loss = np.asarray(nmf_loss)"
   ]
  },
  {
   "cell_type": "code",
   "execution_count": null,
   "metadata": {
    "colab": {
     "base_uri": "https://localhost:8080/",
     "height": 927
    },
    "id": "GVGSfrZ30H0U",
    "outputId": "85d8a9c4-0a4d-4916-9c86-4c7591b2ed86"
   },
   "outputs": [],
   "source": [
    "# show loss    \n",
    "fig, (ax, ax2) = plt.subplots(2, 1, figsize=(6, 9), sharex=True)\n",
    "plt.subplots_adjust(hspace=0)\n",
    "ax.plot(sweeping_grid, 1/100 * pca_loss, '--s', ms=10, mfc='C1')\n",
    "ax2.plot(sweeping_grid, nmf_loss, '--s', ms=10, mfc='C1')\n",
    "ax2.set_xlabel('Number of components')\n",
    "ax.set_ylabel('Reconstruction error')\n",
    "ax2.set_ylabel('Reconstruction error')\n",
    "#fig.savefig('PCA_NMF_reconstruction_loss.png')\n",
    "#fig.savefig('PCA_NMF_reconstruction_loss.pdf')"
   ]
  },
  {
   "cell_type": "code",
   "execution_count": null,
   "metadata": {
    "id": "eZqwwc210H0U"
   },
   "outputs": [],
   "source": [
    "def nmf_ncomp_selection(loss, rtol=1e-3):\n",
    "    loss = np.asarray(loss)  # cast anyway\n",
    "    assert loss.ndim == 1\n",
    "    # find improvement ratio after adding subsequent comp\n",
    "    imp_ratio = np.abs(np.diff(loss) / loss[:-1])\n",
    "    inds, = np.where(imp_ratio <= rtol)\n",
    "    return inds[0] + 1"
   ]
  },
  {
   "cell_type": "code",
   "execution_count": null,
   "metadata": {
    "colab": {
     "base_uri": "https://localhost:8080/"
    },
    "id": "Z6uG4ekv0H0U",
    "outputId": "e05bcd07-d663-4801-c4c0-0778f9757f10"
   },
   "outputs": [],
   "source": [
    "n_comp = nmf_ncomp_selection(nmf_loss)\n",
    "print(n_comp)\n",
    "nmf = NMF(n_components=n_comp, random_state=23, max_iter=1000)\n",
    "nmf.fit(nmf_ar)"
   ]
  },
  {
   "cell_type": "code",
   "execution_count": null,
   "metadata": {
    "id": "vv8BLV_l0H0V"
   },
   "outputs": [],
   "source": [
    "#%timeit m.fit(nmf_ar)"
   ]
  },
  {
   "cell_type": "code",
   "execution_count": null,
   "metadata": {
    "colab": {
     "base_uri": "https://localhost:8080/",
     "height": 1000
    },
    "id": "mX2LrHCJ0H0V",
    "outputId": "cfec81f8-78b3-4d51-abdb-a91a72aebd34"
   },
   "outputs": [],
   "source": [
    "fig, ax = plt.subplots(figsize=(6, 8))\n",
    "shift = 0\n",
    "# seq to align with input phase\n",
    "seq = [2, 1, 0]\n",
    "for i, s in enumerate(seq):\n",
    "    ax.plot(r, nmf.components_[s, :] + shift)\n",
    "    shift += nmf.components_[s, :].max() * 1.1\n",
    "ax.set_xlabel(r'r ($\\mathrm{\\AA}$)')\n",
    "ax.set_ylabel(r'$G^e$')\n",
    "fig.savefig('NMF_phases.pdf')\n",
    "fig.savefig('NMF_phases.png')\n",
    "\n",
    "nmf_weight = nmf.transform(nmf_ar)\n",
    "nmf_weight /= nmf_weight.sum(1)[:, np.newaxis]\n",
    "nmf_weight = nmf_weight.T\n",
    "nmf_weight = np.asarray([nmf_weight[s, :] for s in seq])\n",
    "fig, ax = plt.subplots()\n",
    "for w in nmf_weight:\n",
    "    ax.plot(w, '--s')\n",
    "ax.set_xlabel('Reaction time (a.u.)')\n",
    "ax.set_ylabel('Phase ratio')\n",
    "#fig.savefig('NMF_weights.pdf')\n",
    "fig.savefig('NMF_weights.png')"
   ]
  },
  {
   "cell_type": "markdown",
   "metadata": {
    "id": "QTVv_r3Y0H0V"
   },
   "source": [
    "# simulating time series plot"
   ]
  },
  {
   "cell_type": "code",
   "execution_count": null,
   "metadata": {
    "id": "002_4xXp0H0V"
   },
   "outputs": [],
   "source": [
    "def swipping_nmf_loss(ar, comp_ub=5):\n",
    "    loss = []\n",
    "    sweeping_grid = range(1, comp_ub + 1, 1)\n",
    "    for i in sweeping_grid: \n",
    "        m = NMF(n_components=i, random_state=23, max_iter=10000)\n",
    "        m.fit(ar)\n",
    "        loss += [m.reconstruction_err_]\n",
    "    loss = np.asarray(loss)\n",
    "    return loss\n",
    "\n",
    "def nmf_ncomp_selection(loss, rtol=1e-3):\n",
    "    loss = np.asarray(loss)  # cast anyway\n",
    "    assert loss.ndim == 1\n",
    "    # find improvement ratio after adding subsequent comp\n",
    "    imp_ratio = np.abs(np.diff(loss) / loss[:-1])\n",
    "    inds, = np.where(imp_ratio <= rtol)\n",
    "    return inds[0] + 1 if inds.size > 0 else 1\n",
    "\n",
    "def decomp_opt(ar, model):\n",
    "    model.fit(ar)\n",
    "    comps = model.components_\n",
    "    ws = model.transform(ar)\n",
    "    #ws /= ws.sum(1)[:, np.newaxis]\n",
    "    return comps, ws.T"
   ]
  },
  {
   "cell_type": "code",
   "execution_count": null,
   "metadata": {
    "colab": {
     "base_uri": "https://localhost:8080/",
     "height": 732
    },
    "id": "XskfMa6c0H0V",
    "outputId": "89f44479-6ddd-4cc3-cf1c-91a8ba9da0ac"
   },
   "outputs": [],
   "source": [
    "# test drive\n",
    "fig, (ax, ax2) = plt.subplots(1, 2, figsize=(8, 6))\n",
    "plt.subplots_adjust(wspace=0.1)\n",
    "shift = 0\n",
    "comps, ws = decomp_opt(nmf_ar, nmf)\n",
    "ws /= ws.sum(0)[np.newaxis, :]\n",
    "for i, (el, w) in enumerate(zip(comps, ws)):\n",
    "    ######################\n",
    "    ax.plot(r, el + shift, c=f'C{i}')\n",
    "    ax.set_ylabel(r'G$^e$')\n",
    "    ax.set_xlabel(r'r ($\\mathrm{\\AA}$)')\n",
    "    ax.xaxis.set_major_locator(plt.MultipleLocator(5))\n",
    "    shift += el.max() * 1.2\n",
    "    #######################\n",
    "    ax2.plot(w, '--s', c=f'C{i}', markevery=2)\n",
    "    ax2.set_xlabel('Discharge time')\n",
    "    ax2.yaxis.set_label_position(\"right\")\n",
    "    ax2.yaxis.tick_right()\n",
    "    ax2.set_ylabel('Phase ratio')"
   ]
  },
  {
   "cell_type": "code",
   "execution_count": null,
   "metadata": {
    "colab": {
     "base_uri": "https://localhost:8080/",
     "height": 645
    },
    "id": "jHK-d-oz0H0W",
    "outputId": "20cee65c-9767-486e-fb33-f6abc019a126"
   },
   "outputs": [],
   "source": [
    "fig, (ax, ax2) = plt.subplots(1, 2, figsize=(8, 6))\n",
    "plt.subplots_adjust(wspace=0.1)\n",
    "shift = 0\n",
    "comps, ws = decomp_opt(mixed_ar, pca)\n",
    "ws /= 100\n",
    "for i, (el, w) in enumerate(zip(comps, ws)):\n",
    "    ######################\n",
    "    ax.plot(r, el + shift, c=f'C{i}')\n",
    "    ax.set_ylabel(r'G$^e$')\n",
    "    ax.set_xlabel(r'r ($\\mathrm{\\AA}$)')\n",
    "    ax.xaxis.set_major_locator(plt.MultipleLocator(5))\n",
    "    shift += el.max() * 1.2\n",
    "    #######################\n",
    "    ax2.plot(w, '--s', c=f'C{i}', markevery=2)\n",
    "    ax2.set_xlabel('Discharge time')\n",
    "    ax2.yaxis.set_label_position(\"right\")\n",
    "    ax2.yaxis.tick_right()\n",
    "    ax2.set_ylabel('Phase ratio')"
   ]
  },
  {
   "cell_type": "code",
   "execution_count": null,
   "metadata": {
    "colab": {
     "base_uri": "https://localhost:8080/"
    },
    "id": "p_fWUQb20H0W",
    "outputId": "bc82a087-1174-46f4-e3ad-be4d2da75a83"
   },
   "outputs": [],
   "source": [
    "N = len(nmf_ar)\n",
    "nmf_recon_loss, nmf_comp_num = [], []\n",
    "for ii in range(1, N, 1):\n",
    "    # decomp operation\n",
    "    ar = nmf_ar[:ii]\n",
    "    loss = swipping_nmf_loss(ar, comp_ub=5)\n",
    "    n_comp = nmf_ncomp_selection(loss, rtol=1e-3)\n",
    "    print(f\"INFO: at {ii}, n_comp = {n_comp}\")\n",
    "    decomp_model = NMF(n_components=n_comp, random_state=23, tol=1e-5, max_iter=int(1e4))\n",
    "    comps, ws = decomp_opt(ar, decomp_model)\n",
    "    ws /= ws.sum(0)[np.newaxis, :]\n",
    "    nmf_recon_loss += [decomp_model.reconstruction_err_]\n",
    "    nmf_comp_num += [n_comp]\n",
    "    \"\"\"\n",
    "    fig, (ax, ax2) = plt.subplots(1, 2, figsize=(8, 6))\n",
    "    plt.subplots_adjust(wspace=0.1)\n",
    "    shift = 0\n",
    "    for i, (el, w) in enumerate(zip(comps, ws)):\n",
    "        ######################\n",
    "        ax.plot(r, el + shift, c=f'C{i}')\n",
    "        ax.set_ylabel(r'G$^e$')\n",
    "        ax.set_xlabel(r'r ($\\mathrm{\\AA}$)')\n",
    "        ax.xaxis.set_major_locator(plt.MultipleLocator(5))\n",
    "        shift += el.max() * 1.2\n",
    "        #######################\n",
    "        ax2.plot(w, '--s', c=f'C{i}', markevery=2)\n",
    "        ax2.set_xlabel('Discharge time')\n",
    "        ax2.yaxis.set_label_position(\"right\")\n",
    "        ax2.yaxis.tick_right()\n",
    "        ax2.set_ylabel('Phase ratio')\n",
    "    fig.savefig(f'nmf_video_source/nmf_anime_to{ii}.png', dpi=80)\n",
    "    plt.close()\n",
    "    \"\"\""
   ]
  },
  {
   "cell_type": "code",
   "execution_count": null,
   "metadata": {
    "colab": {
     "base_uri": "https://localhost:8080/",
     "height": 910
    },
    "id": "_vhPnwQt0H0W",
    "outputId": "62bd5dca-3267-4fb7-b5a7-8396b9a30bf1"
   },
   "outputs": [],
   "source": [
    "import string\n",
    "\n",
    "string_iter = iter(string.ascii_lowercase)\n",
    "\n",
    "fig, axs = plt.subplots(2, 1, figsize=(6, 9), sharex=True)\n",
    "plt.subplots_adjust(hspace=0)\n",
    "ms = 4.5\n",
    "for i, (ax, ar) in enumerate(zip(axs, [nmf_recon_loss, nmf_comp_num])):\n",
    "    ax.plot(ar, '-s', ls='-', mfc='C6', ms=ms)\n",
    "    s = next(string_iter)\n",
    "    ax.text(0.88, 0.87, '({})'.format(s),\n",
    "                    transform=ax.transAxes,\n",
    "                    size=16,)            \n",
    "    #ax.yaxis.set_major_locator(plt.MaxNLocator(4))\n",
    "    if i == 1:\n",
    "        ax.yaxis.set_major_locator(plt.MultipleLocator(1))\n",
    "axs[0].set_ylabel('Reconstruction Error')\n",
    "axs[1].set_ylabel('Number of Components')\n",
    "ax.set_xlabel('Discharge time')\n",
    "\n",
    "axins = ax.inset_axes(bounds=[0.4, 0.15, 0.55, 0.7], transform=ax.transAxes)\n",
    "for x in sim_phase:\n",
    "    axins.plot(x, '--s', ms=ms-1.5)\n",
    "axins.xaxis.set_major_locator(plt.MultipleLocator(10))\n",
    "axins.yaxis.set_major_locator(plt.MultipleLocator(0.5))\n",
    "axins.set_ylabel('Phase Ratio', size=15)\n",
    "axins.tick_params(labelsize=13)\n",
    "#fig.savefig('nmf_recon_error_num_comp.pdf')"
   ]
  },
  {
   "cell_type": "code",
   "execution_count": null,
   "metadata": {
    "colab": {
     "base_uri": "https://localhost:8080/",
     "height": 910
    },
    "id": "9vhQodxB0H0X",
    "outputId": "4fb5c529-1d3b-4658-89f1-3027ef97f5e4"
   },
   "outputs": [],
   "source": [
    "import string\n",
    "\n",
    "string_iter = iter(string.ascii_lowercase)\n",
    "\n",
    "fig, axs = plt.subplots(2, 1, figsize=(6, 9), sharex=True)\n",
    "plt.subplots_adjust(hspace=0)\n",
    "ms = 4.5\n",
    "for i, (ax, ar) in enumerate(zip(axs, [nmf_recon_loss, nmf_comp_num])):\n",
    "    ax.plot(ar, '-s', ls='-', mfc='C6', ms=ms)\n",
    "    s = next(string_iter)\n",
    "    ax.text(0.88, 0.87, '({})'.format(s),\n",
    "                    transform=ax.transAxes,\n",
    "                    size=16,)            \n",
    "    #ax.yaxis.set_major_locator(plt.MaxNLocator(4))\n",
    "    if i == 1:\n",
    "        ax.yaxis.set_major_locator(plt.MultipleLocator(1))\n",
    "axs[0].set_ylabel('Reconstruction Error')\n",
    "axs[1].set_ylabel('Number of Components')\n",
    "ax.set_xlabel('Discharge time')\n",
    "\n",
    "axins = ax.inset_axes(bounds=[0.4, 0.15, 0.55, 0.7], transform=ax.transAxes)\n",
    "for x in sim_phase:\n",
    "    axins.plot(x, '--s', ms=ms-1.5)\n",
    "axins.xaxis.set_major_locator(plt.MultipleLocator(10))\n",
    "axins.yaxis.set_major_locator(plt.MultipleLocator(0.5))\n",
    "axins.set_ylabel('Phase Ratio', size=15)\n",
    "axins.tick_params(labelsize=13)\n",
    "fig.savefig('nmf_recon_error_num_comp.pdf')"
   ]
  },
  {
   "cell_type": "markdown",
   "metadata": {
    "id": "z0x-Zgwn0H0X"
   },
   "source": [
    "# Static plot"
   ]
  },
  {
   "cell_type": "code",
   "execution_count": null,
   "metadata": {
    "colab": {
     "base_uri": "https://localhost:8080/",
     "height": 1000
    },
    "id": "Bdi9vyWm0H0X",
    "outputId": "2de5490f-5681-4c60-d538-b4c6e1d7bc86"
   },
   "outputs": [],
   "source": [
    "fig = plt.figure(figsize=(10, 15), dpi=120)\n",
    "outer_grid = plt.GridSpec(3, 1, wspace=0, hspace=0.1)\n",
    "end_ = 5\n",
    "step = 25\n",
    "for i in range(3):\n",
    "    inner_grid = gridspec.GridSpecFromSubplotSpec(1, 2, subplot_spec=outer_grid[i],\n",
    "                                                  wspace=0, hspace=0)\n",
    "    end_ += 0 if i == 0 else step\n",
    "    print(end_)\n",
    "    ar = mixed_ar[:end_]\n",
    "    n_comp = 0.99\n",
    "    decomp_model = PCA(n_components=n_comp, random_state=23)\n",
    "    comps, ws = decomp_opt(ar, decomp_model)\n",
    "    ws /= 100\n",
    "    ax = fig.add_subplot(inner_grid[0])\n",
    "    ax2 = fig.add_subplot(inner_grid[1])\n",
    "    shift = 0\n",
    "    for j, (el, w) in enumerate(zip(comps, ws)):\n",
    "        ######################\n",
    "        ax.plot(r, el + shift, c=f'C{j}', lw=2.5)\n",
    "        ax.xaxis.set_major_locator(plt.MultipleLocator(5))\n",
    "        ax.yaxis.set_major_locator(plt.MaxNLocator(3))\n",
    "        shift += el.max() * 1.2\n",
    "        if i == 1:\n",
    "            ax.set_ylabel(r'G$^e$', size=18)\n",
    "        #######################\n",
    "        sep = 1 if end_ < 20 else 2\n",
    "        ax2.plot(w, '--s', c=f'C{j}', markevery=sep)\n",
    "        #ax2.set_xlabel('Discharge time')\n",
    "        ax2.yaxis.set_label_position(\"right\")\n",
    "        ax2.yaxis.tick_right()\n",
    "        ax2.yaxis.set_major_locator(plt.MaxNLocator(3))\n",
    "        if i == 1:\n",
    "            ax2.set_ylabel('Phase ratio', size=18)\n",
    "ax2.set_xlabel('Discharge time', size=18)\n",
    "ax.set_xlabel(r'r ($\\mathrm{\\AA}$)', size=18)\n",
    "fig.savefig('static_pca_decom_process.pdf')"
   ]
  },
  {
   "cell_type": "code",
   "execution_count": null,
   "metadata": {
    "colab": {
     "base_uri": "https://localhost:8080/",
     "height": 1000
    },
    "id": "nv4jlKfo0H0Y",
    "outputId": "7810228a-ff7c-45ce-bedc-049e1fe91083"
   },
   "outputs": [],
   "source": [
    "fig = plt.figure(figsize=(10, 15), dpi=120)\n",
    "outer_grid = plt.GridSpec(3, 1, wspace=0, hspace=0.1)\n",
    "end_ = 5\n",
    "step = 25\n",
    "for i in range(3):\n",
    "    inner_grid = gridspec.GridSpecFromSubplotSpec(1, 2, subplot_spec=outer_grid[i],\n",
    "                                                  wspace=0, hspace=0)\n",
    "    end_ += 0 if i == 0 else step\n",
    "    print(end_)\n",
    "    ar = nmf_ar[:end_]\n",
    "    loss = swipping_nmf_loss(ar, comp_ub=5)\n",
    "    n_comp = nmf_ncomp_selection(loss, rtol=1e-3)\n",
    "    decomp_model = NMF(n_components=n_comp, random_state=23, max_iter=1500)\n",
    "    comps, ws = decomp_opt(ar, decomp_model)\n",
    "    ws /= ws.sum(0)[np.newaxis, :]\n",
    "    ax = fig.add_subplot(inner_grid[0])\n",
    "    ax2 = fig.add_subplot(inner_grid[1])\n",
    "    shift = 0\n",
    "    for j, (el, w) in enumerate(zip(comps, ws)):\n",
    "        ######################\n",
    "        ax.plot(r, el + shift, c=f'C{j}', lw=2.5)\n",
    "        ax.xaxis.set_major_locator(plt.MultipleLocator(5))\n",
    "        ax.yaxis.set_major_locator(plt.MaxNLocator(3))\n",
    "        shift += el.max() * 1.2\n",
    "        if i == 1:\n",
    "            ax.set_ylabel(r'G$^e$', size=18)\n",
    "        #######################\n",
    "        sep = 1 if end_ < 20 else 2\n",
    "        ax2.plot(w, '--s', c=f'C{j}', markevery=sep)\n",
    "        #ax2.set_xlabel('Discharge time')\n",
    "        ax2.yaxis.set_label_position(\"right\")\n",
    "        ax2.yaxis.tick_right()\n",
    "        ax2.yaxis.set_major_locator(plt.MaxNLocator(3))\n",
    "        if i == 1:\n",
    "            ax2.set_ylabel('Phase ratio', size=18)\n",
    "ax2.set_xlabel('Discharge time', size=18)\n",
    "ax.set_xlabel(r'r ($\\mathrm{\\AA}$)', size=18)\n",
    "fig.savefig('static_nmf_decom_process.pdf')"
   ]
  },
  {
   "cell_type": "markdown",
   "metadata": {
    "id": "Y3NT6mIW0H0Y"
   },
   "source": [
    "# Big-fat-ass plot"
   ]
  },
  {
   "cell_type": "code",
   "execution_count": null,
   "metadata": {
    "colab": {
     "base_uri": "https://localhost:8080/",
     "height": 1000
    },
    "id": "AgV6buTR0H0Y",
    "outputId": "6007aad2-b325-421b-bd06-ada65dba4b9a"
   },
   "outputs": [],
   "source": [
    "fig = plt.figure(figsize=(18, 15), dpi=120)\n",
    "outer_grid = plt.GridSpec(3, 2, wspace=0.15, hspace=0.1)\n",
    "end_ = 5\n",
    "step = 25\n",
    "string_iter = iter(string.ascii_lowercase)\n",
    "label_size = 28\n",
    "\n",
    "for i in range(0, 6, 2):\n",
    "    inner_grid = gridspec.GridSpecFromSubplotSpec(1, 2, subplot_spec=outer_grid[i],\n",
    "                                                  wspace=0, hspace=0)\n",
    "    end_ += 0 if i == 0 else step\n",
    "    print(end_)\n",
    "    ar = mixed_ar[:end_]\n",
    "    n_comp = 0.99\n",
    "    decomp_model = PCA(n_components=n_comp, random_state=23)\n",
    "    comps, ws = decomp_opt(ar, decomp_model)\n",
    "    ws /= 100\n",
    "    ax = fig.add_subplot(inner_grid[0])\n",
    "    ax2 = fig.add_subplot(inner_grid[1])\n",
    "    shift = 0\n",
    "    for j, (el, w) in enumerate(zip(comps, ws)):\n",
    "        ######################\n",
    "        el *= 10\n",
    "        ax.plot(r, el + shift, c=f'C{j}', lw=2.5)\n",
    "        ax.xaxis.set_major_locator(plt.MultipleLocator(5))\n",
    "        ax.yaxis.set_major_locator(plt.MaxNLocator(3))\n",
    " \n",
    "        shift += el.max() * 1.5\n",
    "        if i == 2:\n",
    "            ax.set_ylabel(r'G$^e$', size=label_size + 2)\n",
    "        #######################\n",
    "        sep = 1 if end_ < 20 else 2\n",
    "        ax2.plot(w, '--s', c=f'C{j}', markevery=sep)\n",
    "        #ax2.set_xlabel('Discharge time')\n",
    "        ax2.yaxis.set_label_position(\"right\")\n",
    "        ax2.yaxis.tick_right()\n",
    "        ax2.yaxis.set_major_locator(plt.MaxNLocator(3))\n",
    "#        if i == 2:\n",
    "#            ax2.set_ylabel('Phase ratio', size=18)\n",
    "    s = next(string_iter)\n",
    "    ax.text(0.88, 0.88, '({})'.format(s),\n",
    "                    transform=ax.transAxes,\n",
    "                    size=16,)            \n",
    "    s = next(string_iter)\n",
    "    xloc = 0.83 if i == 0 else 0.86\n",
    "    ax2.text(xloc, 0.88, '({})'.format(s),\n",
    "            transform=ax2.transAxes,\n",
    "            size=16,\n",
    "            )\n",
    "ax2.set_xlabel('Discharge time', size=label_size)\n",
    "ax.set_xlabel(r'r ($\\mathrm{\\AA}$)', size=label_size)\n",
    "            \n",
    "end_ = 5\n",
    "for i in range(1, 7, 2):\n",
    "    inner_grid = gridspec.GridSpecFromSubplotSpec(1, 2, subplot_spec=outer_grid[i],\n",
    "                                                  wspace=0, hspace=0)\n",
    "    end_ += 0 if i == 1 else step\n",
    "    print(end_)\n",
    "    ar = nmf_ar[:end_]\n",
    "    loss = swipping_nmf_loss(ar, comp_ub=5)\n",
    "    n_comp = nmf_ncomp_selection(loss, rtol=1e-3)\n",
    "    decomp_model = NMF(n_components=n_comp, random_state=23, max_iter=1500)\n",
    "    comps, ws = decomp_opt(ar, decomp_model)\n",
    "    ws /= ws.sum(0)[np.newaxis, :]\n",
    "    ax = fig.add_subplot(inner_grid[0])\n",
    "    ax2 = fig.add_subplot(inner_grid[1])\n",
    "    shift = 0\n",
    "    for j, (el, w) in enumerate(zip(comps, ws)):\n",
    "        ######################\n",
    "        ax.plot(r, el + shift, c=f'C{j}', lw=2.5)\n",
    "        ax.xaxis.set_major_locator(plt.MultipleLocator(5))\n",
    "        ax.yaxis.set_major_locator(plt.MaxNLocator(3))\n",
    "        shift += el.max() * 1.1\n",
    "#        if i == 3:\n",
    "#            ax.set_ylabel(r'G$^e$', size=18)\n",
    "        #######################\n",
    "        sep = 1 if end_ < 20 else 2\n",
    "        ax2.plot(w, '--s', c=f'C{j}', markevery=sep)\n",
    "        #ax2.set_xlabel('Discharge time')\n",
    "        ax2.yaxis.set_label_position(\"right\")\n",
    "        ax2.yaxis.tick_right()\n",
    "        ax2.yaxis.set_major_locator(plt.MaxNLocator(3))\n",
    "        if i == 1 + 2:\n",
    "            ax2.set_ylabel('Phase ratio', size=label_size + 2)\n",
    "            \n",
    "    s = next(string_iter)\n",
    "    ax.text(0.88, 0.88, '({})'.format(s),\n",
    "                    transform=ax.transAxes,\n",
    "                    size=16,)            \n",
    "    s = next(string_iter)\n",
    "    xloc = 0.83 if i == 0 else 0.86\n",
    "    ax2.text(xloc, 0.88, '({})'.format(s),\n",
    "            transform=ax2.transAxes,\n",
    "            size=16,\n",
    "            )\n",
    "ax2.set_xlabel('Discharge time', size=label_size)\n",
    "ax.set_xlabel(r'r ($\\mathrm{\\AA}$)', size=label_size)\n",
    "fig.savefig('static_pca_nmf_decom_process.pdf')"
   ]
  },
  {
   "cell_type": "code",
   "execution_count": null,
   "metadata": {
    "colab": {
     "base_uri": "https://localhost:8080/"
    },
    "id": "WSLNGBdQ0H0Y",
    "outputId": "09ad8fcd-2d88-48ce-8e5d-31904ac33a04"
   },
   "outputs": [],
   "source": [
    "def plot_ar(ax, ars, scale):\n",
    "    shift = 0\n",
    "    offsets = []\n",
    "    for i, ar in enumerate(ars):\n",
    "        ax.plot(r, ar + shift)\n",
    "        offsets += [float(shift)]\n",
    "        shift = shift + scale * ar.max()\n",
    "    return offsets\n",
    "        \n",
    "# construct ars to plot\n",
    "pca_ars = np.asarray([x * 10 for x in pca.components_])\n",
    "nmf_ars = np.asarray([nmf.components_[i, :] for i in seq])\n",
    "gr_ars = np.asarray(grs) / 10\n",
    "print(pca_ars.shape, nmf_ars.shape, gr_ars.shape)"
   ]
  },
  {
   "cell_type": "code",
   "execution_count": null,
   "metadata": {
    "colab": {
     "base_uri": "https://localhost:8080/"
    },
    "id": "9D88IXiq0H0Y",
    "outputId": "3e28aced-5f7a-4815-d932-b61618242e1e"
   },
   "outputs": [],
   "source": [
    "for a, b in zip(nmf_ars, gr_ars):\n",
    "    print(np.corrcoef(a, b)[0, 1])"
   ]
  },
  {
   "cell_type": "code",
   "execution_count": null,
   "metadata": {
    "colab": {
     "base_uri": "https://localhost:8080/",
     "height": 1000
    },
    "id": "fKc97str0H0Z",
    "outputId": "803f490e-3596-4ac8-d66a-b1894cb12047"
   },
   "outputs": [],
   "source": [
    "fig = plt.figure(figsize=(10, 15), dpi=120)\n",
    "grid = plt.GridSpec(3, 2, fig, hspace=0., wspace=0.0)\n",
    "N = 6\n",
    "label_size=19\n",
    "# first col\n",
    "plot_args = [(pca_ars, 1.6), (gr_ars, 1.5), (nmf_ars, 1.05)]\n",
    "plotted_axs = []\n",
    "sub_axs = []\n",
    "for i, arg in enumerate(plot_args):\n",
    "    ax = fig.add_subplot(grid[i, 0], sharey=None)\n",
    "    offsets = plot_ar(ax, *arg)\n",
    "    for offset in offsets:\n",
    "        ax.axhline(offset, ls='--', color='k', alpha=0.5)\n",
    "    #ax.text(0.1, 0.1, '{}'.format(i), size=20)\n",
    "    sub_axs.append(ax)\n",
    "    ax.set_xlim([0, 21])\n",
    "    #ax.yaxis.set_major_locator(plt.MaxNLocator(3))\n",
    "for i, el in enumerate(sub_axs):\n",
    "    if i != 2:\n",
    "        el.set_xticklabels([])\n",
    "    if i != 1:\n",
    "        el.set_ylabel(r'$G^e$', size=label_size)\n",
    "    else:\n",
    "        #el.set_ylabel(r'G ($\\mathrm{\\AA}^{-2}$)', size=label_size)\n",
    "        el.set_ylabel(r'$G$', size=label_size)\n",
    "    el.yaxis.set_major_locator(plt.MultipleLocator(1))\n",
    "    #el.yaxis.set_major_locator(plt.MaxNLocator(3))\n",
    "sub_axs[-1].set_xlabel(r'r ($\\mathrm{\\AA}$)', size=label_size)\n",
    "plotted_axs.extend(sub_axs)\n",
    "\n",
    "# second col\n",
    "plot_args = [pca_weight, sim_phase, nmf_weight,]\n",
    "sub_axs = []\n",
    "_y = None\n",
    "for i, ars in enumerate(plot_args):\n",
    "    ax = fig.add_subplot(grid[i, 1], sharey=_y)\n",
    "    #_y = ax\n",
    "    for ar in ars:\n",
    "        ax.plot(range(50), ar, '--s', markevery=2)\n",
    "    #if i == 0:\n",
    "    ax.axhline(0, ls='--', color='k', alpha=0.5)\n",
    "    #ax.text(0.1, 0.1, 'a{}'.format(i), size=20)\n",
    "    ax.yaxis.set_major_locator(plt.MultipleLocator(0.5))\n",
    "    ax.xaxis.set_major_locator(plt.MultipleLocator(10))\n",
    "    ax.yaxis.set_label_position(\"right\")\n",
    "    ax.yaxis.tick_right()\n",
    "    #ax.set_ylim(top=1.2)\n",
    "    sub_axs.append(ax)\n",
    "sub_axs[1].set_ylabel('Phase ratio', size=label_size)\n",
    "sub_axs[-1].set_xlabel('Discharge time (a.u.)')\n",
    "plotted_axs.extend(sub_axs)\n",
    "# label\n",
    "string_iter = iter(string.ascii_lowercase)\n",
    "n_row = 3\n",
    "yloc = [0.9] + [0.88] * 2\n",
    "for i in range(n_row):\n",
    "    # first column\n",
    "    ax = plotted_axs[i]\n",
    "    s = next(string_iter)\n",
    "    ax.text(0.88, 0.90, '({})'.format(s),\n",
    "            transform=ax.transAxes,\n",
    "            size=16,\n",
    "           )\n",
    "    # second column\n",
    "    ax = plotted_axs[i + n_row]\n",
    "    s = next(string_iter)\n",
    "    ax.text(0.88, yloc[i], '({})'.format(s),\n",
    "            transform=ax.transAxes,\n",
    "            size=16,\n",
    "           )\n",
    "fig.savefig('nmf_pca_cf.pdf')"
   ]
  },
  {
   "cell_type": "markdown",
   "metadata": {
    "id": "NU-FySHE0H0a"
   },
   "source": [
    "# Experimenting different phase evolvement for PCA"
   ]
  },
  {
   "cell_type": "code",
   "execution_count": null,
   "metadata": {
    "colab": {
     "base_uri": "https://localhost:8080/",
     "height": 638
    },
    "id": "JXt0jLlK0H0a",
    "outputId": "a47fa39d-7760-49ee-85ba-fd407c9b0a78"
   },
   "outputs": [],
   "source": [
    "unit, grid = 100, 50\n",
    "x = np.linspace(0.5, unit, grid)\n",
    "# initial phase -> drop\n",
    "t0 = (0.5 / 6  * unit)\n",
    "#p0 = logistic_func(-(x - t0))\n",
    "sig = unit * 0.35\n",
    "p0 = np.exp(-((x)/sig)**4)\n",
    "\n",
    "# 2nd phase -> compliment with initial phase \n",
    "p1 = np.zeros_like(p0)\n",
    "p1 = 1- p0\n",
    "mask = x >=  0.6 * t0\n",
    "sig = unit * 0.4\n",
    "p1[mask] *= np.exp(-(x[mask]/sig)**2)\n",
    "#sig = unit * 0.1\n",
    "#p1 = 0.5 * np.exp(-((x - t0)/sig)**2)\n",
    "\n",
    "# 3rd phase -> first order transition \n",
    "p2 = np.zeros_like(p1)\n",
    "p2[mask] = 1 - p0[mask] - p1[mask]\n",
    "p2 = 1 - p0 - p1\n",
    "p2 = p2.clip(0)\n",
    "\n",
    "fig, ax = plt.subplots()\n",
    "ax.plot(x, p0, '--s')\n",
    "ax.plot(x, p1, '--s')\n",
    "ax.plot(x, p2, '--s')\n",
    "\n",
    "sim_phase = (p0, p1, p2)\n",
    "# sanity check line\n",
    "#ax.axvline(t0, ls='--', color='k', alpha=0.5)\n",
    "\n",
    "ax.set_xlabel('Reaction time (a.u.)')\n",
    "ax.set_ylabel('Phase ratio')\n",
    "fig.savefig('tweak_phase_ratio.pdf', dpi=120)"
   ]
  },
  {
   "cell_type": "code",
   "execution_count": null,
   "metadata": {
    "colab": {
     "base_uri": "https://localhost:8080/"
    },
    "id": "wXFbgB-G0H0a",
    "outputId": "4d26ad80-b5d3-42fc-9673-485b6dbf70f1"
   },
   "outputs": [],
   "source": [
    "# mixed ar\n",
    "mixed_ar = None\n",
    "for (g, p) in zip(grs, [p0, p1, p2]):\n",
    "    gr_frac = np.outer(g, p) \n",
    "    if mixed_ar is None:\n",
    "        mixed_ar = np.zeros_like(gr_frac)\n",
    "    mixed_ar += gr_frac\n",
    "mixed_ar = mixed_ar.T\n",
    "print(mixed_ar.shape)"
   ]
  },
  {
   "cell_type": "code",
   "execution_count": null,
   "metadata": {
    "colab": {
     "base_uri": "https://localhost:8080/",
     "height": 933
    },
    "id": "U9VmOnYg0H0a",
    "outputId": "970f60ff-4581-47c7-fdae-47d4d81dacb2"
   },
   "outputs": [],
   "source": [
    "fig, ax = plt.subplots(figsize=(6, 9), dpi=120)\n",
    "shift = 5\n",
    "for i, ar in enumerate(mixed_ar[::2]):\n",
    "    ax.plot(r, ar + i * shift, c='C0', lw=1.8)\n",
    "ax.set_xlabel(r'r ($\\mathrm{\\AA}$)')\n",
    "ax.set_ylabel(r'G ($\\mathrm{\\AA}^{-2}$)')"
   ]
  },
  {
   "cell_type": "code",
   "execution_count": null,
   "metadata": {
    "colab": {
     "base_uri": "https://localhost:8080/",
     "height": 644
    },
    "id": "qc5MWABg0H0a",
    "outputId": "43ba05ef-0c86-4cb1-8779-8a40778e5fe2"
   },
   "outputs": [],
   "source": [
    "fig, (ax, ax2) = plt.subplots(1, 2, figsize=(8, 6))\n",
    "plt.subplots_adjust(wspace=0.1)\n",
    "shift = 0\n",
    "model = PCA(n_components=0.99, random_state=23)\n",
    "comps, ws = decomp_opt(mixed_ar[:], model)\n",
    "ws /= 100\n",
    "for i, (el, w) in enumerate(zip(comps, ws)):\n",
    "    ######################\n",
    "    ax.plot(r, el + shift, c=f'C{i}')\n",
    "    ax.set_ylabel(r'G$^e$')\n",
    "    ax.set_xlabel(r'r ($\\mathrm{\\AA}$)')\n",
    "    ax.xaxis.set_major_locator(plt.MultipleLocator(5))\n",
    "    shift += el.max() * 1.2\n",
    "    #######################\n",
    "    ax2.plot(w, '--s', c=f'C{i}', markevery=2)\n",
    "    ax2.set_xlabel('Discharge time')\n",
    "    ax2.yaxis.set_label_position(\"right\")\n",
    "    ax2.yaxis.tick_right()\n",
    "    ax2.set_ylabel('Phase ratio')\n",
    "fig.savefig('tweak_PCA_result.pdf', dpi=80)"
   ]
  },
  {
   "cell_type": "code",
   "execution_count": null,
   "metadata": {
    "id": "8OU2J4cf0H0b"
   },
   "outputs": [],
   "source": []
  }
 ],
 "metadata": {
  "colab": {
   "collapsed_sections": [],
   "name": "synthetic_exp.ipynb",
   "provenance": []
  },
  "kernelspec": {
   "display_name": "Python 3",
   "language": "python",
   "name": "python3"
  },
  "language_info": {
   "codemirror_mode": {
    "name": "ipython",
    "version": 3
   },
   "file_extension": ".py",
   "mimetype": "text/x-python",
   "name": "python",
   "nbconvert_exporter": "python",
   "pygments_lexer": "ipython3",
   "version": "3.7.4"
  }
 },
 "nbformat": 4,
 "nbformat_minor": 1
}
