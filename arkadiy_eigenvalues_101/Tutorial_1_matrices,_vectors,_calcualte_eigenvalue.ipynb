{
  "nbformat": 4,
  "nbformat_minor": 0,
  "metadata": {
    "colab": {
      "name": "Tutorial 1: matrices, vectors, calcualte eigenvalue.ipynb",
      "provenance": [],
      "collapsed_sections": [
        "-1Jbfh4V23jL",
        "eQhLfJKV5cYB",
        "eEhFATUY7cVA"
      ],
      "authorship_tag": "ABX9TyPVGWup3XB1yXn8uDZ4IPMH",
      "include_colab_link": true
    },
    "kernelspec": {
      "name": "python3",
      "display_name": "Python 3"
    },
    "language_info": {
      "name": "python"
    }
  },
  "cells": [
    {
      "cell_type": "markdown",
      "metadata": {
        "id": "view-in-github",
        "colab_type": "text"
      },
      "source": [
        "<a href=\"https://colab.research.google.com/github/aglie/iucr2020_compschool/blob/main/arkadiy_eigenvalues_101/Tutorial_1_matrices%2C_vectors%2C_calcualte_eigenvalue.ipynb\" target=\"_parent\"><img src=\"https://colab.research.google.com/assets/colab-badge.svg\" alt=\"Open In Colab\"/></a>"
      ]
    },
    {
      "cell_type": "code",
      "metadata": {
        "colab": {
          "base_uri": "https://localhost:8080/"
        },
        "id": "EW309p0J1hif",
        "outputId": "640b2af2-1af7-4d74-b4ed-fb01aa1f7228"
      },
      "source": [
        "%pylab inline"
      ],
      "execution_count": null,
      "outputs": [
        {
          "output_type": "stream",
          "name": "stdout",
          "text": [
            "Populating the interactive namespace from numpy and matplotlib\n"
          ]
        }
      ]
    },
    {
      "cell_type": "markdown",
      "metadata": {
        "id": "XhkdPdtx1-zh"
      },
      "source": [
        "# Task 1: Calculate largest eigenvector by repeated matrix multiplication\n",
        "\n",
        "Below is a 3x3 symmetric matrix $A$, find its highest eigenvector by repeatedly applying it to any starting vector $v$. \n",
        "\n",
        "$$\n",
        "h_1 = A^n v\n",
        "$$\n"
      ]
    },
    {
      "cell_type": "code",
      "metadata": {
        "id": "DOabdenp1ieL"
      },
      "source": [
        "A = array([[2, 1, 1], \n",
        "           [1, 3, 2],\n",
        "           [1, 2, 3]])"
      ],
      "execution_count": null,
      "outputs": []
    },
    {
      "cell_type": "code",
      "metadata": {
        "id": "UtxUl21X5VCf"
      },
      "source": [
        "h1 = [1, 0, 0] #a starting vector\n",
        "N = 100 #number of iterations\n",
        "\n",
        "for i in range(N):\n",
        "  #write your code here"
      ],
      "execution_count": null,
      "outputs": []
    },
    {
      "cell_type": "markdown",
      "metadata": {
        "id": "-1Jbfh4V23jL"
      },
      "source": [
        "# Solution"
      ]
    },
    {
      "cell_type": "code",
      "metadata": {
        "colab": {
          "base_uri": "https://localhost:8080/"
        },
        "id": "2xHkxiyN2sUK",
        "outputId": "5c35c621-cf65-4456-cd8c-ab53f7a601d4"
      },
      "source": [
        "h1 = [1, 0, 0] #a starting vector\n",
        "N = 100 #number of iterations\n",
        "\n",
        "for i in range(N):\n",
        "  h1 = dot(A, h) # calcualte new guess for h as a matrix multiplication Ah \n",
        "  h1 = h/norm(h) # normalize h not to overflow doubles\n",
        "h1"
      ],
      "execution_count": null,
      "outputs": [
        {
          "output_type": "execute_result",
          "data": {
            "text/plain": [
              "array([0.36905132, 0.65719142, 0.65719142])"
            ]
          },
          "metadata": {},
          "execution_count": 19
        }
      ]
    },
    {
      "cell_type": "code",
      "metadata": {
        "colab": {
          "base_uri": "https://localhost:8080/"
        },
        "id": "7Qnnb8db38Uh",
        "outputId": "13550661-5ffd-4fa1-9650-34468fdff831"
      },
      "source": [
        "lam1 = dot(h1, dot(A,h1)) # eigenvalue associated with this eigenvector\n",
        "lam1"
      ],
      "execution_count": null,
      "outputs": [
        {
          "output_type": "execute_result",
          "data": {
            "text/plain": [
              "5.561552812761904"
            ]
          },
          "metadata": {},
          "execution_count": 21
        }
      ]
    },
    {
      "cell_type": "markdown",
      "metadata": {
        "id": "MJWI70Z54ANw"
      },
      "source": [
        "# Task 2$^*$: calculate the second eigenvector\n",
        "Now that the first eigenvector is known, you can calculate the second largest eigenvector by projecting out the components of the first one:\n",
        "\n",
        "$$\n",
        "h_2 = AP[AP[...AP[v]]\n",
        "$$\n",
        "\n",
        "Where $P$ is an operator which projects out components of the vector $h_1$ using scalar product $(vh_1)$:\n",
        "\n",
        "$$\n",
        "P[v] = v - h_1 (vh_1)\n",
        "$$\n"
      ]
    },
    {
      "cell_type": "code",
      "metadata": {
        "id": "ftC3Xg1s5MnF"
      },
      "source": [
        "h2 = [1,0,0]\n",
        "\n",
        "for i in range(100):\n",
        "  ... #Write your code here"
      ],
      "execution_count": null,
      "outputs": []
    },
    {
      "cell_type": "markdown",
      "metadata": {
        "id": "eQhLfJKV5cYB"
      },
      "source": [
        "## Solution"
      ]
    },
    {
      "cell_type": "code",
      "metadata": {
        "colab": {
          "base_uri": "https://localhost:8080/"
        },
        "id": "R4R9tLpe5fzY",
        "outputId": "c2eba805-1299-4938-e540-764b2c80216a"
      },
      "source": [
        "h2 = [1,0,0]\n",
        "\n",
        "for i in range(100):\n",
        "  h2 = h2 - h1*dot(h1, h2) #project h1 out\n",
        "  h2 = dot(A, h2) #apply A\n",
        "  h2 = h2/norm(h2) #normalize not to overflow\n",
        "\n",
        "h2"
      ],
      "execution_count": null,
      "outputs": [
        {
          "output_type": "execute_result",
          "data": {
            "text/plain": [
              "array([ 0.92940545, -0.26096505, -0.26096505])"
            ]
          },
          "metadata": {},
          "execution_count": 25
        }
      ]
    },
    {
      "cell_type": "code",
      "metadata": {
        "colab": {
          "base_uri": "https://localhost:8080/"
        },
        "id": "plQEkLVZ5n84",
        "outputId": "dff2b2ae-356a-4329-fe2e-04d274a4686d"
      },
      "source": [
        "lam2 = dot(h2, dot(A,h2))\n",
        "lam2"
      ],
      "execution_count": null,
      "outputs": [
        {
          "output_type": "execute_result",
          "data": {
            "text/plain": [
              "1.438447187892681"
            ]
          },
          "metadata": {},
          "execution_count": 26
        }
      ]
    },
    {
      "cell_type": "markdown",
      "metadata": {
        "id": "Fu2MDdJA54on"
      },
      "source": [
        "# Calculation of eigenvalues and eigenfunctions using `eig`\n",
        "\n",
        "Now let's calculate the same eigenvectors and eigenfunctions using the function `eig` from the package `numpy.linalg`, compare those with your results.\n",
        "\n",
        "Note that in practice you will almost never diagonalize a small matrix using the iterative approach that we have implemented. This approach, though, is very useful when you need to calculate just a few eigenvalues and eigenvectors for a matrix which is too large to fit in computer memory. "
      ]
    },
    {
      "cell_type": "code",
      "metadata": {
        "colab": {
          "base_uri": "https://localhost:8080/"
        },
        "id": "BM95r-rW3T6R",
        "outputId": "b3b81269-4b77-4666-b649-f03117a70cec"
      },
      "source": [
        "lam, vec = eig(A)\n",
        "lam"
      ],
      "execution_count": null,
      "outputs": [
        {
          "output_type": "execute_result",
          "data": {
            "text/plain": [
              "array([1.43844719, 5.56155281, 1.        ])"
            ]
          },
          "metadata": {},
          "execution_count": 27
        }
      ]
    },
    {
      "cell_type": "code",
      "metadata": {
        "colab": {
          "base_uri": "https://localhost:8080/"
        },
        "id": "-L1p-WhR3a9t",
        "outputId": "e674314f-7a79-44cd-95b3-3bb958a99724"
      },
      "source": [
        "vec"
      ],
      "execution_count": null,
      "outputs": [
        {
          "output_type": "execute_result",
          "data": {
            "text/plain": [
              "array([[-9.29410263e-01,  3.69048184e-01,  1.94927723e-16],\n",
              "       [ 2.60956474e-01,  6.57192300e-01, -7.07106781e-01],\n",
              "       [ 2.60956474e-01,  6.57192300e-01,  7.07106781e-01]])"
            ]
          },
          "metadata": {},
          "execution_count": 29
        }
      ]
    },
    {
      "cell_type": "markdown",
      "metadata": {
        "id": "pkNZ5kgy7U2V"
      },
      "source": [
        "# Task 3:\n",
        "\n",
        "What is the eigenvector with the smallest eigenvalue?"
      ]
    },
    {
      "cell_type": "code",
      "metadata": {
        "id": "P9HZICz96JA3"
      },
      "source": [
        "vec3 = ...\n",
        "lam3 = ..."
      ],
      "execution_count": null,
      "outputs": []
    },
    {
      "cell_type": "markdown",
      "metadata": {
        "id": "eEhFATUY7cVA"
      },
      "source": [
        "## Solution"
      ]
    },
    {
      "cell_type": "code",
      "metadata": {
        "colab": {
          "base_uri": "https://localhost:8080/"
        },
        "id": "gsu_DwtF7bZf",
        "outputId": "5db4a959-db34-4731-9d34-e5e57266c514"
      },
      "source": [
        "lam, vec = eig(A)\n",
        "\n",
        "lam3 = amin(lam) # eig doesn't sort eigenvalues, so we need to find the smallest one\n",
        "lam3"
      ],
      "execution_count": null,
      "outputs": [
        {
          "output_type": "execute_result",
          "data": {
            "text/plain": [
              "1.0"
            ]
          },
          "metadata": {},
          "execution_count": 41
        }
      ]
    },
    {
      "cell_type": "code",
      "metadata": {
        "colab": {
          "base_uri": "https://localhost:8080/"
        },
        "id": "EQSA74ue7Zx6",
        "outputId": "b429a74b-e75a-4d16-ebf8-5ca4ae273a45"
      },
      "source": [
        "h3 = vec[:, argmin(lam)] # eigenvectors are arranged as column-vectors in h3\n",
        "h3"
      ],
      "execution_count": null,
      "outputs": [
        {
          "output_type": "execute_result",
          "data": {
            "text/plain": [
              "array([ 1.94927723e-16, -7.07106781e-01,  7.07106781e-01])"
            ]
          },
          "metadata": {},
          "execution_count": 42
        }
      ]
    },
    {
      "cell_type": "code",
      "metadata": {
        "colab": {
          "base_uri": "https://localhost:8080/"
        },
        "id": "WLHWZVy-71ft",
        "outputId": "0197837d-03a7-4a08-ccc3-ec86259a7ec5"
      },
      "source": [
        "#check that we have done everything correctly\n",
        "\n",
        "dot(h3, dot(A, h3))"
      ],
      "execution_count": null,
      "outputs": [
        {
          "output_type": "execute_result",
          "data": {
            "text/plain": [
              "1.0000000000000002"
            ]
          },
          "metadata": {},
          "execution_count": 43
        }
      ]
    }
  ]
}