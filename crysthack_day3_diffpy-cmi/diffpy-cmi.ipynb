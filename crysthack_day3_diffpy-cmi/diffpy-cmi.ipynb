{
 "cells": [
  {
   "cell_type": "markdown",
   "metadata": {
    "colab_type": "text",
    "id": "view-in-github"
   },
   "source": [
    "<a href=\"https://colab.research.google.com/github/st3107/20210818_iucr_diffpy_talk/blob/main/notebooks/03_example_script_for_colab_final_version.ipynb\" target=\"_parent\"><img src=\"https://colab.research.google.com/assets/colab-badge.svg\" alt=\"Open In Colab\"/></a>"
   ]
  },
  {
   "cell_type": "markdown",
   "metadata": {
    "id": "a166aa01"
   },
   "source": [
    "# Prepare the conda environment"
   ]
  },
  {
   "cell_type": "markdown",
   "metadata": {
    "id": "6825c6f9"
   },
   "source": [
    "## Install the mini-conda and use it to install diffpy-cmi"
   ]
  },
  {
   "cell_type": "code",
   "execution_count": null,
   "metadata": {
    "colab": {
     "base_uri": "https://localhost:8080/"
    },
    "id": "389bbcac",
    "outputId": "504feec5-4971-40bc-a5eb-78801d6df73e"
   },
   "outputs": [],
   "source": [
    "!echo $PYTHONPATH"
   ]
  },
  {
   "cell_type": "code",
   "execution_count": null,
   "metadata": {
    "colab": {
     "base_uri": "https://localhost:8080/"
    },
    "id": "5d97dea8",
    "outputId": "c27bab79-38b3-4875-aac4-1fd72d766d98"
   },
   "outputs": [],
   "source": [
    "%env PYTHONPATH="
   ]
  },
  {
   "cell_type": "code",
   "execution_count": null,
   "metadata": {
    "colab": {
     "base_uri": "https://localhost:8080/"
    },
    "id": "4107d153",
    "outputId": "a3b8ded1-a504-46ba-fb7f-95fc17cd981e"
   },
   "outputs": [],
   "source": [
    "%%bash\n",
    "MINICONDA_INSTALLER_SCRIPT=Miniconda3-latest-Linux-x86_64.sh\n",
    "MINICONDA_PREFIX=/usr/local\n",
    "wget https://repo.continuum.io/miniconda/$MINICONDA_INSTALLER_SCRIPT\n",
    "chmod +x $MINICONDA_INSTALLER_SCRIPT\n",
    "./$MINICONDA_INSTALLER_SCRIPT -b -f -p $MINICONDA_PREFIX"
   ]
  },
  {
   "cell_type": "code",
   "execution_count": null,
   "metadata": {
    "colab": {
     "base_uri": "https://localhost:8080/"
    },
    "id": "b1f9462c",
    "outputId": "ae3caeaa-5067-4db2-c5fe-41cd50e9eacf"
   },
   "outputs": [],
   "source": [
    "!which conda"
   ]
  },
  {
   "cell_type": "code",
   "execution_count": null,
   "metadata": {
    "colab": {
     "base_uri": "https://localhost:8080/"
    },
    "id": "c0ce6b08",
    "outputId": "e62ad186-c811-432e-92a6-1607edb0b799"
   },
   "outputs": [],
   "source": [
    "!conda --version"
   ]
  },
  {
   "cell_type": "code",
   "execution_count": null,
   "metadata": {
    "colab": {
     "base_uri": "https://localhost:8080/"
    },
    "id": "86afa7ec",
    "outputId": "86837eb4-b4c7-46a1-8c3e-2d4a6da34cac"
   },
   "outputs": [],
   "source": [
    "!conda create -n diffpy -c defaults -c diffpy python=3.7 diffpy-cmi pandas --yes"
   ]
  },
  {
   "cell_type": "code",
   "execution_count": null,
   "metadata": {
    "colab": {
     "base_uri": "https://localhost:8080/"
    },
    "id": "819d14e8",
    "outputId": "131c3e73-99f6-476d-a4fd-f64dd89986ac"
   },
   "outputs": [],
   "source": [
    "!conda env list"
   ]
  },
  {
   "cell_type": "markdown",
   "metadata": {
    "id": "226efd77"
   },
   "source": [
    "## Configure the python to recognize the diffpy library"
   ]
  },
  {
   "cell_type": "code",
   "execution_count": null,
   "metadata": {
    "colab": {
     "base_uri": "https://localhost:8080/"
    },
    "id": "9cd4710d",
    "outputId": "13d1bb51-2470-4c8c-ec2a-4e96b064875d"
   },
   "outputs": [],
   "source": [
    "!ls /usr/local/envs/diffpy/lib/python3.7/site-packages/diffpy*"
   ]
  },
  {
   "cell_type": "code",
   "execution_count": null,
   "metadata": {
    "id": "9e2c1c53"
   },
   "outputs": [],
   "source": [
    "!cp -r /usr/local/envs/diffpy/lib/python3.7/site-packages/diffpy.srfit-3.0.0-py3.7.egg/diffpy/* /usr/local/envs/diffpy/lib/python3.7/site-packages/diffpy/"
   ]
  },
  {
   "cell_type": "code",
   "execution_count": null,
   "metadata": {
    "id": "9b5f9508"
   },
   "outputs": [],
   "source": [
    "!cp -r /usr/local/envs/diffpy/lib/python3.7/site-packages/diffpy.structure-3.0.1-py3.7.egg/diffpy/* /usr/local/envs/diffpy/lib/python3.7/site-packages/diffpy/"
   ]
  },
  {
   "cell_type": "code",
   "execution_count": null,
   "metadata": {
    "id": "b8c41850"
   },
   "outputs": [],
   "source": [
    "!cp -r /usr/local/envs/diffpy/lib/python3.7/site-packages/diffpy.utils-3.0.0-py3.7.egg/diffpy/* /usr/local/envs/diffpy/lib/python3.7/site-packages/diffpy/"
   ]
  },
  {
   "cell_type": "code",
   "execution_count": null,
   "metadata": {
    "id": "24ed2d4c"
   },
   "outputs": [],
   "source": [
    "import sys"
   ]
  },
  {
   "cell_type": "code",
   "execution_count": null,
   "metadata": {
    "id": "46822139"
   },
   "outputs": [],
   "source": [
    "sys.path.insert(1, \"/usr/local/envs/diffpy/lib/python3.7/site-packages\")"
   ]
  },
  {
   "cell_type": "markdown",
   "metadata": {
    "id": "6c9de328"
   },
   "source": [
    "## Test if we can import diffpy"
   ]
  },
  {
   "cell_type": "code",
   "execution_count": null,
   "metadata": {
    "id": "639e78f5"
   },
   "outputs": [],
   "source": [
    "import diffpy.srfit\n",
    "import diffpy.srreal\n",
    "import diffpy.structure\n",
    "import diffpy.utils"
   ]
  },
  {
   "cell_type": "markdown",
   "metadata": {
    "id": "289d8be6"
   },
   "source": [
    "## Download the example data from github"
   ]
  },
  {
   "cell_type": "code",
   "execution_count": null,
   "metadata": {
    "colab": {
     "base_uri": "https://localhost:8080/"
    },
    "id": "88702595",
    "outputId": "dbc68ba8-6a1f-4aa4-be68-13ce9f229411"
   },
   "outputs": [],
   "source": [
    "!git clone https://github.com/st3107/20210818_iucr_diffpy_talk.git"
   ]
  },
  {
   "cell_type": "code",
   "execution_count": null,
   "metadata": {
    "id": "2d0cb765"
   },
   "outputs": [],
   "source": [
    "!cp -r ./20210818_iucr_diffpy_talk/notebooks/colab_data ./data"
   ]
  },
  {
   "cell_type": "code",
   "execution_count": null,
   "metadata": {
    "colab": {
     "base_uri": "https://localhost:8080/"
    },
    "id": "fe65d61d",
    "outputId": "50814b88-555f-4226-aa9e-d2f14cdcc287"
   },
   "outputs": [],
   "source": [
    "!ls ./data"
   ]
  },
  {
   "cell_type": "markdown",
   "metadata": {
    "id": "151bedf9"
   },
   "source": [
    "# Customized PDF fitting based on the APIs in diffpy-cmi"
   ]
  },
  {
   "cell_type": "markdown",
   "metadata": {
    "id": "17dd4f71"
   },
   "source": [
    "In this notebook, we will show an example how to use the APIs in the diffpy-cmi to create your own tools of PDF fitting."
   ]
  },
  {
   "cell_type": "code",
   "execution_count": null,
   "metadata": {
    "id": "0cc3754f"
   },
   "outputs": [],
   "source": [
    "%matplotlib inline"
   ]
  },
  {
   "cell_type": "markdown",
   "metadata": {
    "id": "2737b9f8"
   },
   "source": [
    "## Import the modules"
   ]
  },
  {
   "cell_type": "markdown",
   "metadata": {
    "id": "757d919a"
   },
   "source": [
    "Below are modules we used to create our tools. We also define a variable \"F\" which contains a collection of predefined characteristic functions from diffpy-cmi that we will use later."
   ]
  },
  {
   "cell_type": "code",
   "execution_count": null,
   "metadata": {
    "id": "e33fe006"
   },
   "outputs": [],
   "source": [
    "import typing\n",
    "import matplotlib.pyplot as plt\n",
    "import numpy as np\n",
    "from pathlib import Path\n",
    "\n",
    "from scipy.optimize import least_squares\n",
    "from diffpy.utils.parsers.loaddata import loadData\n",
    "from diffpy.srfit.fitbase import FitRecipe, FitContribution, Profile, FitResults\n",
    "from diffpy.srfit.pdf import PDFGenerator, PDFParser\n",
    "from diffpy.srfit.fitbase.parameterset import ParameterSet\n",
    "from pyobjcryst import loadCrystal\n",
    "from pyobjcryst.crystal import Crystal\n",
    "import diffpy.srfit.pdf.characteristicfunctions\n",
    "\n",
    "F = diffpy.srfit.pdf.characteristicfunctions"
   ]
  },
  {
   "cell_type": "markdown",
   "metadata": {
    "id": "0338cac2"
   },
   "source": [
    "## Introduction to the basic classes in diffpy-cmi"
   ]
  },
  {
   "cell_type": "markdown",
   "metadata": {
    "id": "dffa11d5"
   },
   "source": [
    "### Profile"
   ]
  },
  {
   "cell_type": "markdown",
   "metadata": {
    "id": "e017da6f"
   },
   "source": [
    "The `Profile` is an object to hold data and metadata. For example, in this example we have a simulated dataset that is a linear line with noise.\n",
    "\n",
    "`Profile` is a general container for any profile.  We make a particular instance of it called `noisy_linear` that contains our particular profile."
   ]
  },
  {
   "cell_type": "code",
   "execution_count": null,
   "metadata": {
    "colab": {
     "base_uri": "https://localhost:8080/",
     "height": 282
    },
    "id": "90a6a4c8",
    "outputId": "c2cbbbcf-7083-41ad-f2bb-b890cb91a590"
   },
   "outputs": [],
   "source": [
    "x = np.arange(0., 10, 0.01)\n",
    "y = 0.5 * x + 2.0 + np.random.normal(scale=0.5, size=x.shape[0])\n",
    "noisy_linear = Profile()\n",
    "noisy_linear.setObservedProfile(x, y)\n",
    "plt.plot(noisy_linear.x, noisy_linear.y)"
   ]
  },
  {
   "cell_type": "markdown",
   "metadata": {
    "id": "e8bb8f6b"
   },
   "source": [
    "### FitContribution"
   ]
  },
  {
   "cell_type": "markdown",
   "metadata": {
    "id": "325af62a"
   },
   "source": [
    "Now we want to fit something to our profile.  We use a `FitContribution` object to hold all the info about each contribution in the fit (e.g., a phase in a multi-phase fit and the model to fit to it).  So we create a particular instance of `FitContribution` for this noisy linear data and give it a short and memorable name, `nlc`.  Diffpy-cmi also allows you to give this a name attribute that we set to `noisy_linear`.  Then we give it our `noisy_linear` `Profile`.  "
   ]
  },
  {
   "cell_type": "code",
   "execution_count": null,
   "metadata": {
    "id": "51f1d460"
   },
   "outputs": [],
   "source": [
    "nlc = FitContribution(\"noisy_linear\")\n",
    "nlc.setProfile(noisy_linear)"
   ]
  },
  {
   "cell_type": "markdown",
   "metadata": {
    "id": "c435f972"
   },
   "source": [
    "`nlc` should also contain the model to fit to the data. The model can be defined by a string equation. For example, our data is a straight line, we may want to use \"a * x + b\" as the model. Here, the \"a\", \"b\" are two scalar parameters and \"x\" is a the independent variable, this is the most direct way to use diffpy-cmi."
   ]
  },
  {
   "cell_type": "code",
   "execution_count": null,
   "metadata": {
    "id": "95160275"
   },
   "outputs": [],
   "source": [
    "nlc.setEquation(\"a * x + b\")"
   ]
  },
  {
   "cell_type": "markdown",
   "metadata": {
    "id": "cd9cb76c"
   },
   "source": [
    "### FitRecipe"
   ]
  },
  {
   "cell_type": "markdown",
   "metadata": {
    "id": "c45adc46"
   },
   "source": [
    "In general, a fit may contain multiple components (multiple phases, etc. but also the constraints and variables that affect th fit).  The object to contain the complex fit is the `FitRecipe` and we need to create a particular instance of this for our (single component) linear fit.  Let's call it `nlr` for noisy-linear-recipe.  After instantiating it, we add our contribution."
   ]
  },
  {
   "cell_type": "code",
   "execution_count": null,
   "metadata": {
    "id": "93ca836e"
   },
   "outputs": [],
   "source": [
    "nlr = FitRecipe()\n",
    "nlr.addContribution(nlc)"
   ]
  },
  {
   "cell_type": "markdown",
   "metadata": {
    "id": "ed2c75e3"
   },
   "source": [
    "After it is added, the `FitContribution` will be an attribute of `FitRecipe` and user can access it."
   ]
  },
  {
   "cell_type": "code",
   "execution_count": null,
   "metadata": {
    "colab": {
     "base_uri": "https://localhost:8080/"
    },
    "id": "45f52ee8",
    "outputId": "1431158d-43c1-461c-cef0-e3c6cea8839a"
   },
   "outputs": [],
   "source": [
    "nlr.noisy_linear"
   ]
  },
  {
   "cell_type": "markdown",
   "metadata": {
    "id": "e498ec5f"
   },
   "source": [
    "There is a default `FitHook` for printing which is not always useful. We will clear it for this tutorial."
   ]
  },
  {
   "cell_type": "code",
   "execution_count": null,
   "metadata": {
    "id": "c6a409f8"
   },
   "outputs": [],
   "source": [
    "nlr.fithooks.clear()"
   ]
  },
  {
   "cell_type": "markdown",
   "metadata": {
    "id": "18a69219"
   },
   "source": [
    "We can add the parameters from the model in the `FitContribution` into the `FitRecipe` as variables to vary in the fit."
   ]
  },
  {
   "cell_type": "code",
   "execution_count": null,
   "metadata": {
    "colab": {
     "base_uri": "https://localhost:8080/"
    },
    "id": "528d5143",
    "outputId": "7db81371-db1b-4eeb-db55-d7fd403a38d2"
   },
   "outputs": [],
   "source": [
    "nlr.addVar(nlc.a)\n",
    "nlr.addVar(nlc.b)"
   ]
  },
  {
   "cell_type": "markdown",
   "metadata": {
    "id": "9f8fb4de"
   },
   "source": [
    "After it is added, we can set an initial value for it."
   ]
  },
  {
   "cell_type": "code",
   "execution_count": null,
   "metadata": {
    "colab": {
     "base_uri": "https://localhost:8080/"
    },
    "id": "46c28e5e",
    "outputId": "b41c3386-7b3a-4f95-9a17-e0109b194310"
   },
   "outputs": [],
   "source": [
    "nlr.a.setValue(1.)\n",
    "nlr.b.setValue(1.)"
   ]
  },
  {
   "cell_type": "markdown",
   "metadata": {
    "id": "a08810b3"
   },
   "source": [
    "### Optimization"
   ]
  },
  {
   "cell_type": "markdown",
   "metadata": {
    "id": "aa5f1828"
   },
   "source": [
    "The `FitRecipe` is not in charge of the optimization of parameters. It is only a interface to manage parameters and generate the residual. We need to use optimization tools outside the diffpy-cmi, for example `scipy.optimize.least_squares` that was imported above with its name shortened to `least_squares`.  To run it needs the computed residual (sum of squares of difference between the model and the data in this case) and the variables that it will vary, which are returned by the `getValues()` method in `FitRecipe`.  After it runs it will update the values to new, refined, values which are the result of the fit."
   ]
  },
  {
   "cell_type": "code",
   "execution_count": null,
   "metadata": {
    "colab": {
     "base_uri": "https://localhost:8080/"
    },
    "id": "1ddde18e",
    "outputId": "67f97f35-135f-4b27-9249-dbe170c2c4b8"
   },
   "outputs": [],
   "source": [
    "least_squares(nlr.residual, nlr.getValues(), verbose=1);"
   ]
  },
  {
   "cell_type": "markdown",
   "metadata": {
    "id": "740c32c5"
   },
   "source": [
    "Now, we successfully used the diffpy-cmi to do a linear regression.  We can do things like plot the results and output a table of the refined parameters"
   ]
  },
  {
   "cell_type": "code",
   "execution_count": null,
   "metadata": {
    "colab": {
     "base_uri": "https://localhost:8080/",
     "height": 282
    },
    "id": "08a1a3fc",
    "outputId": "4bae8585-9a2c-4a37-ef03-5bc12e1a5c6c"
   },
   "outputs": [],
   "source": [
    "plt.plot(noisy_linear.x, noisy_linear.y, label=\"data\")\n",
    "plt.plot(noisy_linear.x, noisy_linear.ycalc, label=\"fit\")\n",
    "plt.legend()"
   ]
  },
  {
   "cell_type": "code",
   "execution_count": null,
   "metadata": {
    "colab": {
     "base_uri": "https://localhost:8080/"
    },
    "id": "426bdeb9",
    "outputId": "8ccce42d-49f5-48e8-b629-0844b664b692"
   },
   "outputs": [],
   "source": [
    "nlr.show()"
   ]
  },
  {
   "cell_type": "markdown",
   "metadata": {
    "id": "ab78790c"
   },
   "source": [
    "### Use python function in the equation"
   ]
  },
  {
   "cell_type": "markdown",
   "metadata": {
    "id": "79565750"
   },
   "source": [
    "What if we cannot write out the equation using the a simple hand-written function? For example, our data is a stretched and scaled zero order Bessel function."
   ]
  },
  {
   "cell_type": "code",
   "execution_count": null,
   "metadata": {
    "id": "64f8d80a"
   },
   "outputs": [],
   "source": [
    "import scipy.special as special"
   ]
  },
  {
   "cell_type": "code",
   "execution_count": null,
   "metadata": {
    "colab": {
     "base_uri": "https://localhost:8080/",
     "height": 282
    },
    "id": "98494b9e",
    "outputId": "5b46e716-3116-41dd-bf19-5c2805e3a249"
   },
   "outputs": [],
   "source": [
    "x = np.arange(0., 10, 0.01)\n",
    "y = 10 * special.besselpoly(x / 0.5, 1, 0) + np.random.normal(scale=0.1, size=x.shape[0])\n",
    "noisy_bessel = Profile()\n",
    "noisy_bessel.setObservedProfile(x, y)\n",
    "plt.plot(noisy_bessel.x, noisy_bessel.y)"
   ]
  },
  {
   "cell_type": "code",
   "execution_count": null,
   "metadata": {
    "id": "4b43e8de"
   },
   "outputs": [],
   "source": [
    "nbc = FitContribution(\"noisy_bessel\")\n",
    "nbc.setProfile(noisy_bessel)"
   ]
  },
  {
   "cell_type": "markdown",
   "metadata": {
    "id": "6f90e647"
   },
   "source": [
    "In this case, we need to define a Bessel function and register it in the equation using `registerFunction`. Here, the equation \"f\" is not a scalar parameter \"f\" but a symbol representing the registered function so the actual model is \"y = bessel(x, a, b)\""
   ]
  },
  {
   "cell_type": "code",
   "execution_count": null,
   "metadata": {
    "id": "17679578"
   },
   "outputs": [],
   "source": [
    "def bessel(x, a, b):\n",
    "    return a * special.besselpoly(x / b, 1, 0)"
   ]
  },
  {
   "cell_type": "code",
   "execution_count": null,
   "metadata": {
    "id": "86248115"
   },
   "outputs": [],
   "source": [
    "nbc.registerFunction(bessel, name=\"f\")\n",
    "nbc.setEquation(\"f\")"
   ]
  },
  {
   "cell_type": "code",
   "execution_count": null,
   "metadata": {
    "colab": {
     "base_uri": "https://localhost:8080/"
    },
    "id": "50efb654",
    "outputId": "a04a4bbe-5ea6-457a-b161-a1957f451423"
   },
   "outputs": [],
   "source": [
    "nbr = FitRecipe()\n",
    "nbr.clearFitHooks()\n",
    "nbr.addContribution(nbc)\n",
    "nbr.addVar(nbc.a)\n",
    "nbr.addVar(nbc.b)\n",
    "nbr.a.setValue(0.5)\n",
    "nbr.b.setValue(0.5)"
   ]
  },
  {
   "cell_type": "code",
   "execution_count": null,
   "metadata": {
    "colab": {
     "base_uri": "https://localhost:8080/"
    },
    "id": "6b28af19",
    "outputId": "153ba3d1-3952-4cbd-b7b6-2757379605ba"
   },
   "outputs": [],
   "source": [
    "least_squares(nbr.residual, nbr.getValues(), verbose=1);"
   ]
  },
  {
   "cell_type": "code",
   "execution_count": null,
   "metadata": {
    "colab": {
     "base_uri": "https://localhost:8080/",
     "height": 282
    },
    "id": "8272cf5f",
    "outputId": "d2c85c46-86bb-40df-b1cb-e8fed76eed0e"
   },
   "outputs": [],
   "source": [
    "plt.plot(noisy_bessel.x, noisy_bessel.y, label=\"data\")\n",
    "plt.plot(noisy_bessel.x, noisy_bessel.ycalc, label=\"fit\")\n",
    "plt.legend()"
   ]
  },
  {
   "cell_type": "code",
   "execution_count": null,
   "metadata": {
    "colab": {
     "base_uri": "https://localhost:8080/"
    },
    "id": "1ec8373e",
    "outputId": "534baaae-65b1-4702-d009-9267f214236d"
   },
   "outputs": [],
   "source": [
    "nbr.show()"
   ]
  },
  {
   "cell_type": "markdown",
   "metadata": {
    "id": "72e1dab9"
   },
   "source": [
    "### Use PDFGenerator in the equation"
   ]
  },
  {
   "cell_type": "markdown",
   "metadata": {
    "id": "cd0a6019"
   },
   "source": [
    "Now, what if our data is a PDF data? Our model will include structures with parameters like lattice constants and ADPs. We can define our python function for the calculation of the PDF and add it to `FitContribution`. However, every time there is a new structure, we need to define a function and this is inefficient. We would like a python class that loads a structure inside, calculates PDF when called and contains the parameters of the structure in its attributes.\n",
    "\n",
    "diffpy-cmi can also accept the python class but it must be the child class of the `ProfileGenerator`. Usually, users don't need to define it because diffpy-cmi provides the predefined `PDFGenerator` for the users, but if you wanted to add a new profile generator, like for a Raman or NMR spectrum, this is how you would do it. For this example of just PDF we just need to use `addProfileGenerator` to add it in the `FitContribution`."
   ]
  },
  {
   "cell_type": "code",
   "execution_count": null,
   "metadata": {
    "id": "a01f411c"
   },
   "outputs": [],
   "source": [
    "crystal = loadCrystal(\"./data/TiO2_bronze.cif\")\n",
    "pg = PDFGenerator(\"TiO2\")\n",
    "pg.setStructure(crystal, periodic=True)"
   ]
  },
  {
   "cell_type": "code",
   "execution_count": null,
   "metadata": {
    "id": "dee933d2"
   },
   "outputs": [],
   "source": [
    "fc = FitContribution(\"PDF\")\n",
    "fc.addProfileGenerator(pg)\n",
    "fc.setEquation(\"TiO2\")"
   ]
  },
  {
   "cell_type": "markdown",
   "metadata": {
    "id": "08a171ed"
   },
   "source": [
    "After it is added, it is an attribute of `FitContribution`."
   ]
  },
  {
   "cell_type": "code",
   "execution_count": null,
   "metadata": {
    "colab": {
     "base_uri": "https://localhost:8080/"
    },
    "id": "04b03381",
    "outputId": "6dc0c61b-626c-4e43-fafa-a21f9b96361d"
   },
   "outputs": [],
   "source": [
    "fc.TiO2"
   ]
  },
  {
   "cell_type": "code",
   "execution_count": null,
   "metadata": {
    "colab": {
     "base_uri": "https://localhost:8080/",
     "height": 282
    },
    "id": "6aaf96a6",
    "outputId": "0c502d24-dbbd-4507-cfeb-5610ec6cd3f4"
   },
   "outputs": [],
   "source": [
    "x = np.arange(0., 10., 0.01)\n",
    "y = fc.TiO2(x)\n",
    "plt.plot(x, y)"
   ]
  },
  {
   "cell_type": "markdown",
   "metadata": {
    "id": "e9f6f49c"
   },
   "source": [
    "### diffpy-cmi = modeling interface + PDF library"
   ]
  },
  {
   "cell_type": "markdown",
   "metadata": {
    "id": "6452a548"
   },
   "source": [
    "In a nutshell, diffpy-cmi is a modeling interface together with a library of PDF calculators and characteristic functions. The interface for users to manage the variables and the calculators are separated. Users need to combine them when using the diffpy-cmi. This seems to produce a bit more work but it gives opportunities to developers in the open source world to further develop diffpy-cmi to do more and more things. They can add new calculators in the library keeping the interface untouched, use the calculators in another place or develop their own interface based on diffpy-cmi.  They can also build gui's and other user-interfaces to hide some of this complexity from non-programmer users!\n",
    "\n",
    "In the next section, we will show a simple example how to use diffpy-cmi to fit the PDF."
   ]
  },
  {
   "cell_type": "markdown",
   "metadata": {
    "id": "bb411a4d"
   },
   "source": [
    "## Fit the data of TiO2 nanoparticles with TiO2 bronze phase"
   ]
  },
  {
   "cell_type": "markdown",
   "metadata": {
    "id": "470f9842"
   },
   "source": [
    "In this section, we will create tools and use them in the fitting of the data from the TiO2 nanoparticles."
   ]
  },
  {
   "cell_type": "markdown",
   "metadata": {
    "id": "Rmk_rMbjV3FD"
   },
   "source": [
    "## The data file of G(r)"
   ]
  },
  {
   "cell_type": "code",
   "execution_count": null,
   "metadata": {
    "id": "0719b5f8"
   },
   "outputs": [],
   "source": [
    "GR_FILE = \"./data/TiO2_np_ligand.gr\""
   ]
  },
  {
   "cell_type": "markdown",
   "metadata": {
    "id": "f22c21a8"
   },
   "source": [
    "To create a FitRecipe, we need data and a model. The data is a two column file where the first column is the value of distance `r` and the second column is the value of PDF `G`. The file may also contain the headers where the metadata is written in the \"key = value\" format. Below shows the first several rows of the data file that we will use in the fitting that was obtiained from the `PDFgetX3` program."
   ]
  },
  {
   "cell_type": "code",
   "execution_count": null,
   "metadata": {
    "colab": {
     "base_uri": "https://localhost:8080/"
    },
    "id": "8e5d88b4",
    "outputId": "1db0d43a-5c00-4038-c8d6-b38c0a86e9d9"
   },
   "outputs": [],
   "source": [
    "!head -40 \"./data/TiO2_np_ligand.gr\""
   ]
  },
  {
   "cell_type": "markdown",
   "metadata": {
    "id": "71a4c12d"
   },
   "source": [
    "### Initial guess of the structure"
   ]
  },
  {
   "cell_type": "markdown",
   "metadata": {
    "id": "0a99ddcb"
   },
   "source": [
    "By uploading the file to the structureMining App in the [PDFitc](https://pdfitc.org/) website we can automatically get good starting models to save us some time. The result is sorted from the best to the worst in the table. We find the best candidate to start with is the bronze phase structure (space group \"C2/m\") in the Materials Project Database."
   ]
  },
  {
   "cell_type": "code",
   "execution_count": null,
   "metadata": {
    "id": "c234f6e1"
   },
   "outputs": [],
   "source": [
    "DATA_MINING_FILE = \"./data/pdfitc_search_results_data.csv\""
   ]
  },
  {
   "cell_type": "code",
   "execution_count": null,
   "metadata": {
    "colab": {
     "base_uri": "https://localhost:8080/",
     "height": 359
    },
    "id": "9a69dc92",
    "outputId": "7c62f182-4a9e-4e23-f64f-063a6e28855f"
   },
   "outputs": [],
   "source": [
    "import pandas as pd\n",
    "\n",
    "df = pd.read_csv(DATA_MINING_FILE, index_col=0)\n",
    "df[[\"rw\", \"formula\", \"space_group\", \"db\", \"db_id\"]].head(10)"
   ]
  },
  {
   "cell_type": "markdown",
   "metadata": {
    "id": "7824327c"
   },
   "source": [
    "We download the cif file from the database and put it to the place shown below."
   ]
  },
  {
   "cell_type": "code",
   "execution_count": null,
   "metadata": {
    "id": "b8249e42"
   },
   "outputs": [],
   "source": [
    "CIF_FILE_B = \"./data/TiO2_bronze.cif\""
   ]
  },
  {
   "cell_type": "markdown",
   "metadata": {
    "id": "fa0c11b5"
   },
   "source": [
    "### Create our first FitRecipe\n",
    "\n",
    "In this section, we will create our first FitRecipe. A FitRecipe is the interface that user to interact with in the fitting. It contains FitContribution, which is a fit of anything. Here, we will make a helper function `create_recipe_from_files` that creates a single-FitContribution and FitRecipe from the data and structure files in one step. We can reuse this function so do fits many times over with little typing.  This step is not required, but it makes things easier, and these helper functions can be shared to speed things up for everyone."
   ]
  },
  {
   "cell_type": "code",
   "execution_count": null,
   "metadata": {
    "id": "90cd1964"
   },
   "outputs": [],
   "source": [
    "def _create_recipe(\n",
    "        equation: str,\n",
    "        crystals: typing.Dict[str, Crystal],\n",
    "        functions: typing.Dict[str, typing.Tuple[typing.Callable, typing.List[str]]],\n",
    "        profile: Profile,\n",
    "        fc_name: str = \"PDF\"\n",
    ") -> FitRecipe:\n",
    "    \"\"\"Create the FitRecipe object.\n",
    "\n",
    "    Parameters\n",
    "    ----------\n",
    "    equation :\n",
    "        The equation of G(r).\n",
    "    crystals :\n",
    "        A mapping from the name of variable in the equation to the crystal structure for PDF calculation.\n",
    "    functions :\n",
    "        A mapping from the name of variable in the equation to the python function for PDF calculation.\n",
    "        The first argument of the function is the array of r, the other arguments are the parameters.\n",
    "    profile :\n",
    "        The data profile that contains both the metadata and the data.\n",
    "    fc_name :\n",
    "        The name of the FitContribution in the FitRecipe. Default \"PDF\".\n",
    "\n",
    "    Returns\n",
    "    -------\n",
    "    A FitRecipe object.\n",
    "    \"\"\"\n",
    "    fr = FitRecipe()\n",
    "    fc = FitContribution(fc_name)\n",
    "    for name, crystal in crystals.items():\n",
    "        pg = PDFGenerator(name)\n",
    "        pg.setStructure(crystal, periodic=True)\n",
    "        fc.addProfileGenerator(pg)\n",
    "    for name, (f, argnames) in functions.items():\n",
    "        fc.registerFunction(f, name=name, argnames=argnames)\n",
    "    fc.setEquation(equation)\n",
    "    fc.setProfile(profile, xname=\"r\", yname=\"G\", dyname=\"dG\")\n",
    "    fr.addContribution(fc)\n",
    "    return fr\n",
    "\n",
    "\n",
    "def _get_tags(phase: str, param: str) -> typing.List[str]:\n",
    "    \"\"\"Get the tag names.\n",
    "\n",
    "    Parameters\n",
    "    ----------\n",
    "    phase\n",
    "    param\n",
    "\n",
    "    Returns\n",
    "    -------\n",
    "\n",
    "    \"\"\"\n",
    "    return [param, phase, \"{}_{}\".format(phase, param)]\n",
    "\n",
    "\n",
    "def _get_name(*args: str) -> str:\n",
    "    \"\"\"Get the name of the variable.\n",
    "\n",
    "    Parameters\n",
    "    ----------\n",
    "    args\n",
    "\n",
    "    Returns\n",
    "    -------\n",
    "\n",
    "    \"\"\"\n",
    "    return \"_\".join(args)\n",
    "\n",
    "\n",
    "def _rename_par(name: str, atoms: list) -> str:\n",
    "    \"\"\"Rename of the name of a parameter by replacing the index of the atom in the name by the label of\n",
    "    the atom and revert the order of coordinates and atom name.\n",
    "\n",
    "    Used for the space group constrained parameters. For example, \"x_0\" where atom index 0 is Ni will become\n",
    "    \"Ni0_x\" after renamed. If the name can not renamed, return the original name.\n",
    "\n",
    "    Parameters\n",
    "    ----------\n",
    "    name\n",
    "    atoms\n",
    "\n",
    "    Returns\n",
    "    -------\n",
    "\n",
    "    \"\"\"\n",
    "    parts = name.split(\"_\")\n",
    "    np = len(parts)\n",
    "    na = len(atoms)\n",
    "    if np > 1 and parts[1].isdigit() and -1 < int(parts[1]) < na:\n",
    "        parts[1] = atoms[int(parts[1])].name\n",
    "        parts = parts[::-1]\n",
    "    return \"_\".join(parts)\n",
    "\n",
    "\n",
    "def _add_params_in_pg(recipe: FitRecipe, pg: PDFGenerator) -> None:\n",
    "    \"\"\"Add parameters in the PDFGenerator.\n",
    "\n",
    "    Parameters\n",
    "    ----------\n",
    "    recipe\n",
    "    pg\n",
    "\n",
    "    Returns\n",
    "    -------\n",
    "\n",
    "    \"\"\"\n",
    "    name: str = pg.name\n",
    "    recipe.addVar(\n",
    "        pg.scale,\n",
    "        name=_get_name(name, \"scale\"),\n",
    "        value=0.,\n",
    "        fixed=True,\n",
    "        tags=_get_tags(name, \"scale\")\n",
    "    ).boundRange(0.)\n",
    "    recipe.addVar(\n",
    "        pg.delta2,\n",
    "        name=_get_name(name, \"delta2\"),\n",
    "        value=0.,\n",
    "        fixed=True,\n",
    "        tags=_get_tags(name, \"delta2\")\n",
    "    ).boundRange(0.)\n",
    "    latpars = pg.phase.sgpars.latpars\n",
    "    for par in latpars:\n",
    "        recipe.addVar(\n",
    "            par,\n",
    "            name=_get_name(name, par.name),\n",
    "            fixed=True,\n",
    "            tags=_get_tags(name, \"lat\")\n",
    "        ).boundRange(0.)\n",
    "    atoms: typing.List[ParameterSet] = pg.phase.getScatterers()\n",
    "    for atom in atoms:\n",
    "        par = atom.Biso\n",
    "        recipe.addVar(\n",
    "            par,\n",
    "            name=_get_name(name, atom.name, \"Biso\"),\n",
    "            value=0.02,\n",
    "            fixed=True,\n",
    "            tags=_get_tags(name, \"adp\")\n",
    "        ).boundRange(0.)\n",
    "    xyzpars = pg.phase.sgpars.xyzpars\n",
    "    for par in xyzpars:\n",
    "        par_name = _rename_par(par.name, atoms)\n",
    "        recipe.addVar(\n",
    "            par,\n",
    "            name=_get_name(name, par_name),\n",
    "            fixed=True,\n",
    "            tags=_get_tags(name, \"xyz\")\n",
    "        )\n",
    "    return\n",
    "\n",
    "\n",
    "def _add_params_in_fc(\n",
    "        recipe: FitRecipe,\n",
    "        fc: FitContribution,\n",
    "        names: typing.List[str],\n",
    "        tags: typing.List[str]\n",
    ") -> None:\n",
    "    \"\"\"Add parameters in the FitContribution.\n",
    "\n",
    "    Parameters\n",
    "    ----------\n",
    "    recipe\n",
    "    fc\n",
    "    names\n",
    "    tags\n",
    "\n",
    "    Returns\n",
    "    -------\n",
    "\n",
    "    \"\"\"\n",
    "    for name in names:\n",
    "        par = getattr(fc, name)\n",
    "        recipe.addVar(\n",
    "            par,\n",
    "            value=100.,\n",
    "            fixed=True,\n",
    "            tags=tags\n",
    "        )\n",
    "    return\n",
    "\n",
    "\n",
    "def _initialize_recipe(\n",
    "        recipe: FitRecipe,\n",
    "        functions: typing.Dict[str, typing.Tuple[typing.Callable, typing.List[str]]],\n",
    "        crystals: typing.Dict[str, Crystal],\n",
    "        fc_name: str = \"PDF\"\n",
    ") -> None:\n",
    "    \"\"\"Initialize the FitRecipe object with variables.\n",
    "\n",
    "    The parameters are the scale of the PDF, the delta2 parameter in the correction of correlated motions,\n",
    "    the atomic displacement parameters (ADPs) of the symmetric unique atoms, the x, y, z positions of the\n",
    "    symmetric unique atoms under the constraint of the symmetry and the parameters in the functions registered\n",
    "    in the FitContribution.\n",
    "\n",
    "    Parameters\n",
    "    ----------\n",
    "    recipe\n",
    "    functions\n",
    "    crystals\n",
    "    fc_name\n",
    "\n",
    "    Returns\n",
    "    -------\n",
    "\n",
    "    \"\"\"\n",
    "    fc: FitContribution = getattr(recipe, fc_name)\n",
    "    for name, (_, argnames) in functions.items():\n",
    "        _add_params_in_fc(recipe, fc, argnames[1:], tags=[name])\n",
    "    for name in crystals.keys():\n",
    "        pg: PDFGenerator = getattr(fc, name)\n",
    "        _add_params_in_pg(recipe, pg)\n",
    "    recipe.clearFitHooks()\n",
    "    return\n",
    "\n",
    "\n",
    "def create_recipe_from_files(\n",
    "        equation: str,\n",
    "        cif_files: typing.Dict[str, str],\n",
    "        functions: typing.Dict[str, typing.Tuple[typing.Callable, typing.List[str]]],\n",
    "        data_file: typing.Dict[str, str],\n",
    "        meta_data: typing.Dict[str, typing.Union[str, int, float]] = None,\n",
    "        fc_name: str = \"PDF\"\n",
    ") -> FitRecipe:\n",
    "    \"\"\"Create the FitRecipe object.\n",
    "\n",
    "    Parameters\n",
    "    ----------\n",
    "    equation :\n",
    "        The equation of G(r).\n",
    "    cif_files :\n",
    "        A mapping from the name of variable in the equation to cif files of the crystal structure for PDF\n",
    "        calculation.\n",
    "    functions :\n",
    "        A mapping from the name of variable in the equation to the python function for PDF calculation.\n",
    "        The first argument of the function is the array of r, the other arguments are the parameters.\n",
    "    data_file :\n",
    "        The data file that be loaded into the data profile that contains both the metadata and the data.\n",
    "    meta_data :\n",
    "        Additional metadata to add into the data profile.\n",
    "    fc_name :\n",
    "        The name of the FitContribution in the FitRecipe. Default \"PDF\".\n",
    "\n",
    "    Returns\n",
    "    -------\n",
    "    A FitRecipe object.\n",
    "    \"\"\"\n",
    "    if meta_data is None:\n",
    "        meta_data = {}\n",
    "    crystals = {n: loadCrystal(f) for n, f in cif_files.items()}\n",
    "    pp = PDFParser()\n",
    "    pp.parseFile(data_file)\n",
    "    profile = Profile()\n",
    "    profile.loadParsedData(pp)\n",
    "    profile.meta.update(meta_data)\n",
    "    recipe = _create_recipe(equation, crystals, functions, profile, fc_name=fc_name)\n",
    "    _initialize_recipe(recipe, functions, crystals, fc_name=fc_name)\n",
    "    return recipe\n"
   ]
  },
  {
   "cell_type": "markdown",
   "metadata": {
    "id": "9c045e0e"
   },
   "source": [
    "We use the tool to create a recipe. The model is \"sphere * bronze\", where \"sphere\" is a spherical characteristic function and the \"bronze\" is the PDF from the bronze phase TiO2 crystal, whose structure is from the cif file we found in the former sections. The data is loaded from the data file. Besides the metadata in the data file, we also add the \"qdamp\" and \"qbroad\" parameters from the calibration."
   ]
  },
  {
   "cell_type": "code",
   "execution_count": null,
   "metadata": {
    "id": "ae339254"
   },
   "outputs": [],
   "source": [
    "recipe = create_recipe_from_files(\n",
    "    \"sphere * bronze\",\n",
    "    cif_files={\"bronze\": CIF_FILE_B},\n",
    "    functions={\"sphere\": (F.sphericalCF, [\"r\", \"bronze_size\"])},\n",
    "    data_file=GR_FILE,\n",
    "    meta_data={\"qdamp\": 0.04, \"qbroad\": 0.02}\n",
    ")"
   ]
  },
  {
   "cell_type": "markdown",
   "metadata": {
    "id": "1b7129cb"
   },
   "source": [
    "Here, we show the status of the FitRecipe. The first section in the printed text is the parameters to refine and their current value. As defined in the `_initialize_recipe`, the name will start with the name of the PDFGenerator, where is \"bronze\" here, and then will be followed by the name of the parameter in that PDFGenerator.\n",
    "\n",
    "The next section in the printed text is the data and parameter at the FitContribution level and the following sections will be all the parameters in the PDFGenerators."
   ]
  },
  {
   "cell_type": "code",
   "execution_count": null,
   "metadata": {
    "colab": {
     "base_uri": "https://localhost:8080/"
    },
    "id": "99a43ff6",
    "outputId": "6d69e60b-4d0e-4a9d-eb88-56d391ba3cb0"
   },
   "outputs": [],
   "source": [
    "recipe.show()"
   ]
  },
  {
   "cell_type": "markdown",
   "metadata": {
    "id": "bca3f606"
   },
   "source": [
    "### Optimize the parameters"
   ]
  },
  {
   "cell_type": "markdown",
   "metadata": {
    "id": "1626d182"
   },
   "source": [
    "In the last section, we defined our FitRecipe. In this section, we will optimize the parameters in the FitRecipe using the least square regression. The tool is defined as below.  Again, we define a helper function for doing this repeatedly with minimal typing.  Feel free to reuse these helper functions (we will publish them somewhere soon)."
   ]
  },
  {
   "cell_type": "code",
   "execution_count": null,
   "metadata": {
    "id": "6ef55d5e"
   },
   "outputs": [],
   "source": [
    "def optimize_params(\n",
    "        recipe: FitRecipe,\n",
    "        steps: typing.List[typing.List[str]],\n",
    "        rmin: float = None,\n",
    "        rmax: float = None,\n",
    "        rstep: float = None,\n",
    "        print_step: bool = True,\n",
    "        fc_name: str = \"PDF\",\n",
    "        **kwargs\n",
    ") -> None:\n",
    "    \"\"\"Optimize the parameters in the FitRecipe object using least square regression.\n",
    "\n",
    "    Parameters\n",
    "    ----------\n",
    "    recipe :\n",
    "        The FitRecipe object.\n",
    "    steps :\n",
    "        A list of lists of parameter names in the recipe. They will be free and refined one batch after another.\n",
    "        Usually, the scale, lattice should be refined before the APD and XYZ.\n",
    "    rmin :\n",
    "        The minimum r in the range for refinement. If None, use the minimum r in the data.\n",
    "    rmax :\n",
    "        The maximum r in the range for refinement. If None, use the maximum r in the data.\n",
    "    rstep :\n",
    "        The step of r in the range for refinement. If None, use the step of r in the data.\n",
    "    print_step :\n",
    "        If True, print out the refinement step. Default True.\n",
    "    fc_name :\n",
    "        The name of the FitContribution in the FitRecipe. Default \"PDF\".\n",
    "    kwargs :\n",
    "        The kwargs for the `scipy.optimize.least_square`.\n",
    "\n",
    "    Returns\n",
    "    -------\n",
    "    None.\n",
    "    \"\"\"\n",
    "    n = len(steps)\n",
    "    fc: FitContribution = getattr(recipe, fc_name)\n",
    "    p: Profile = fc.profile\n",
    "    p.setCalculationRange(xmin=rmin, xmax=rmax, dx=rstep)\n",
    "    for step in steps:\n",
    "        recipe.fix(*step)\n",
    "    for i, step in enumerate(steps):\n",
    "        recipe.free(*step)\n",
    "        if print_step:\n",
    "            print(\n",
    "                \"Step {} / {}: refine {}\".format(\n",
    "                    i + 1, n, \", \".join(recipe.getNames())\n",
    "                ),\n",
    "                end=\"\\r\"\n",
    "            )\n",
    "        least_squares(recipe.residual, recipe.getValues(), bounds=recipe.getBounds2(), **kwargs)\n",
    "    return"
   ]
  },
  {
   "cell_type": "markdown",
   "metadata": {
    "id": "7eaf73f4"
   },
   "source": [
    "We use it to do our first refinement. Usually, we free the parameters one batch after another instead of refining them all at once. The order is usually the scale and lattice constants, the ADPs and $\\delta_2$, the positions of atoms and the parameters in the characteristic functions for the first fit.\n",
    "\n",
    "To begin with, we only refine the data in a small range and we will increase it to the whole range after we find a reasonably good starting model for the small range of the data so that we can save computation time."
   ]
  },
  {
   "cell_type": "code",
   "execution_count": null,
   "metadata": {
    "colab": {
     "base_uri": "https://localhost:8080/"
    },
    "id": "fca93a93",
    "outputId": "d361fa4b-cb46-4823-8eab-cdcfa9d8d501"
   },
   "outputs": [],
   "source": [
    "optimize_params(\n",
    "    recipe,\n",
    "    [\n",
    "        [\"bronze_scale\", \"bronze_lat\"], \n",
    "        [\"bronze_adp\", \"bronze_delta2\"], \n",
    "        [\"bronze_xyz\"], \n",
    "        [\"bronze_size\"]\n",
    "    ],\n",
    "    rmin=1.6,\n",
    "    rmax=20.0,\n",
    "    rstep=0.02,\n",
    "    ftol=1e-4\n",
    ")"
   ]
  },
  {
   "cell_type": "markdown",
   "metadata": {
    "id": "ff29c7c6"
   },
   "source": [
    "### Visualize the fits"
   ]
  },
  {
   "cell_type": "markdown",
   "metadata": {
    "id": "10df0c68"
   },
   "source": [
    "In the last section, we refined our FitRecipe. In this section, we will look at the fits. We realize it using `matplotlib.pyplot`."
   ]
  },
  {
   "cell_type": "code",
   "execution_count": null,
   "metadata": {
    "id": "1482393e"
   },
   "outputs": [],
   "source": [
    "def visualize_fits(recipe: FitRecipe, xlim: typing.Tuple = None, fc_name: str = \"PDF\") -> None:\n",
    "    \"\"\"Visualize the fits in the FitRecipe object.\n",
    "\n",
    "    Parameters\n",
    "    ----------\n",
    "    recipe :\n",
    "        The FitRecipe object.\n",
    "    xlim :\n",
    "        The boundary of the x to show in the plot.\n",
    "    fc_name :\n",
    "        The name of the FitContribution in the FitRecipe. Default \"PDF\".\n",
    "\n",
    "    Returns\n",
    "    -------\n",
    "    None.\n",
    "    \"\"\"\n",
    "    # get data\n",
    "    fc = getattr(recipe, fc_name)\n",
    "    r = fc.profile.x\n",
    "    g = fc.profile.y\n",
    "    gcalc = fc.profile.ycalc\n",
    "    if xlim is not None:\n",
    "        sel = np.logical_and(r >= xlim[0], r <= xlim[1])\n",
    "        r = r[sel]\n",
    "        g = g[sel]\n",
    "        gcalc = gcalc[sel]\n",
    "    gdiff = g - gcalc\n",
    "    diffzero = -0.8 * np.max(g) * np.ones_like(g)\n",
    "    # plot figure\n",
    "    _, ax = plt.subplots()\n",
    "    ax.plot(r, g, 'bo', label=\"G(r) Data\")\n",
    "    ax.plot(r, gcalc, 'r-', label=\"G(r) Fit\")\n",
    "    ax.plot(r, gdiff + diffzero, 'g-', label=\"G(r) Diff\")\n",
    "    ax.plot(r, diffzero, 'k-')\n",
    "    ax.set_xlabel(r\"$r (\\AA)$\")\n",
    "    ax.set_ylabel(r\"$G (\\AA^{-2})$\")\n",
    "    ax.legend(loc=1)\n",
    "    plt.show()\n",
    "    return"
   ]
  },
  {
   "cell_type": "markdown",
   "metadata": {
    "id": "75939957"
   },
   "source": [
    "Here, we visualize the fits. It looks fine in general. We find the correct major phase for our sample, which is the TiO2 bronze phase."
   ]
  },
  {
   "cell_type": "code",
   "execution_count": null,
   "metadata": {
    "colab": {
     "base_uri": "https://localhost:8080/",
     "height": 285
    },
    "id": "418e0f12",
    "outputId": "8fc2ddb8-21aa-4b47-aa3a-ca5ba1cc1850"
   },
   "outputs": [],
   "source": [
    "visualize_fits(recipe)"
   ]
  },
  {
   "cell_type": "markdown",
   "metadata": {
    "id": "34114d81"
   },
   "source": [
    "### Save the results in files"
   ]
  },
  {
   "cell_type": "markdown",
   "metadata": {
    "id": "31718c6e"
   },
   "source": [
    "In the last section, we saw our fits and were satisfied with the fits. In this section, we will save the results from the `FitRecipe`. We create the tool below to export the optimized values of the parameters, the data of the fits and the refined crystal structure in the files in a directory."
   ]
  },
  {
   "cell_type": "code",
   "execution_count": null,
   "metadata": {
    "id": "2dbe9dd1"
   },
   "outputs": [],
   "source": [
    "def save_results(\n",
    "        recipe: FitRecipe,\n",
    "        directory: str,\n",
    "        file_stem: str,\n",
    "        pg_names: typing.List[str] = None,\n",
    "        fc_name: str = \"PDF\"\n",
    ") -> None:\n",
    "    \"\"\"Save the parameters, fits and structures in the FitRecipe object.\n",
    "\n",
    "    Parameters\n",
    "    ----------\n",
    "    recipe :\n",
    "        The FitRecipe object.\n",
    "    directory :\n",
    "        The directory to output the files.\n",
    "    file_stem :\n",
    "        The stem of the filename.\n",
    "    pg_names :\n",
    "        The name of the PDFGenerators (it will also be the name of the structures) to save. If None, not to save.\n",
    "    fc_name\n",
    "        The name of the FitContribution in the FitRecipe. Default \"PDF\".\n",
    "    Returns\n",
    "    -------\n",
    "    None.\n",
    "    \"\"\"\n",
    "    d_path = Path(directory)\n",
    "    d_path.mkdir(parents=True, exist_ok=True)\n",
    "    f_path = d_path.joinpath(file_stem)\n",
    "    fr = FitResults(recipe)\n",
    "    fr.saveResults(str(f_path.with_suffix(\".res\")))\n",
    "    fc: FitContribution = getattr(recipe, fc_name)\n",
    "    profile: Profile = fc.profile\n",
    "    profile.savetxt(str(f_path.with_suffix(\".fgr\")))\n",
    "    if pg_names is not None:\n",
    "        for pg_name in pg_names:\n",
    "            pg: PDFGenerator = getattr(fc, pg_name)\n",
    "            stru: Crystal = pg.stru\n",
    "            cif_path = f_path.with_name(\n",
    "                \"{}_{}\".format(f_path.stem, pg_name)\n",
    "            ).with_suffix(\".cif\")\n",
    "            with cif_path.open(\"w\") as f:\n",
    "                stru.CIFOutput(f)\n",
    "    return"
   ]
  },
  {
   "cell_type": "markdown",
   "metadata": {
    "id": "9ca5ec01"
   },
   "source": [
    "We save the results in a folder \"data/bronze\"."
   ]
  },
  {
   "cell_type": "code",
   "execution_count": null,
   "metadata": {
    "id": "82091cda"
   },
   "outputs": [],
   "source": [
    "save_results(recipe, \"data/bronze\", \"bronze\", [\"bronze\"])"
   ]
  },
  {
   "cell_type": "markdown",
   "metadata": {
    "id": "4a1a867a"
   },
   "source": [
    "Here, we show what files are saved."
   ]
  },
  {
   "cell_type": "code",
   "execution_count": null,
   "metadata": {
    "colab": {
     "base_uri": "https://localhost:8080/"
    },
    "id": "877560e7",
    "outputId": "b36da7ba-3c8b-4c48-947f-c4795bbb0478"
   },
   "outputs": [],
   "source": [
    "!ls \"./data/bronze\""
   ]
  },
  {
   "cell_type": "markdown",
   "metadata": {
    "id": "4fff7e54"
   },
   "source": [
    "The \"bronze.res\" is a file of optimized parameters."
   ]
  },
  {
   "cell_type": "code",
   "execution_count": null,
   "metadata": {
    "colab": {
     "base_uri": "https://localhost:8080/"
    },
    "id": "5cf16fcf",
    "outputId": "dfec3d71-89e4-4039-bfa8-8a661df64529"
   },
   "outputs": [],
   "source": [
    "!cat \"./data/bronze/bronze.res\""
   ]
  },
  {
   "cell_type": "markdown",
   "metadata": {
    "id": "4e82e3a3"
   },
   "source": [
    "The \"bronze.fgr\" is a four-column data file."
   ]
  },
  {
   "cell_type": "code",
   "execution_count": null,
   "metadata": {
    "colab": {
     "base_uri": "https://localhost:8080/"
    },
    "id": "e52cc227",
    "outputId": "4048d48f-d5c0-48ea-e307-a2b412b688d5"
   },
   "outputs": [],
   "source": [
    "!head -10 \"./data/bronze/bronze.fgr\""
   ]
  },
  {
   "cell_type": "markdown",
   "metadata": {
    "id": "2c825d30"
   },
   "source": [
    "The \"bronze_bronze.cif\" is a CIF file of the refined bronze phase structure."
   ]
  },
  {
   "cell_type": "code",
   "execution_count": null,
   "metadata": {
    "colab": {
     "base_uri": "https://localhost:8080/"
    },
    "id": "ac66b3e1",
    "outputId": "e89d7593-f037-44ef-f799-6825227709c7"
   },
   "outputs": [],
   "source": [
    "!cat \"./data/bronze/bronze_bronze.cif\""
   ]
  },
  {
   "cell_type": "markdown",
   "metadata": {
    "id": "8c002232"
   },
   "source": [
    "## Use PDFitc to find the secondary phase"
   ]
  },
  {
   "cell_type": "markdown",
   "metadata": {
    "id": "9cc1ee2a"
   },
   "source": [
    "There are still some residuals in the fits. It is likely that there is a secondary phase in the sample that produces a smaller PDF signal and it is hidden in the residuals. We would like to find what this phase could be and thus we output the residuals in a data file alone and submit it to the PDFitc."
   ]
  },
  {
   "cell_type": "code",
   "execution_count": null,
   "metadata": {
    "id": "cff1b562"
   },
   "outputs": [],
   "source": [
    "def export_diff_from_fgr(fgr_file: str, dst_file: str) -> None:\n",
    "    \"\"\"Export the difference curve in another file from a file containing x, ycalc, y, dy.\n",
    "\n",
    "    Parameters\n",
    "    ----------\n",
    "    fgr_file :\n",
    "        The input file containing four columns x, ycalc, y, dy.\n",
    "    dst_file :\n",
    "        The output file containing two columns x, y.\n",
    "\n",
    "    Returns\n",
    "    -------\n",
    "    None.s\n",
    "    \"\"\"\n",
    "    x, ycalc, y, _ = loadData(fgr_file).T\n",
    "    diff = y - ycalc\n",
    "    data = np.column_stack([x, diff])\n",
    "    np.savetxt(dst_file, data, header=\"x y\")\n",
    "    return"
   ]
  },
  {
   "cell_type": "code",
   "execution_count": null,
   "metadata": {
    "id": "51270e5d"
   },
   "outputs": [],
   "source": [
    "export_diff_from_fgr(\"./data/bronze/bronze.fgr\", \"./data/TiO2_residuals.gr\")"
   ]
  },
  {
   "cell_type": "markdown",
   "metadata": {
    "id": "203dfb1a"
   },
   "source": [
    "We find the secondary phase may be the anatase phase (space group: \"$I4_1amd$\")"
   ]
  },
  {
   "cell_type": "code",
   "execution_count": null,
   "metadata": {
    "colab": {
     "base_uri": "https://localhost:8080/",
     "height": 359
    },
    "id": "23a20b08",
    "outputId": "b4b0ce79-e92d-4b04-91e8-4381137d4a49"
   },
   "outputs": [],
   "source": [
    "df = pd.read_csv(\"./data/pdfitc_search_residuals.csv\")\n",
    "df[[\"rw\", \"formula\", \"space_group\", \"db\", \"db_id\"]].head(10)"
   ]
  },
  {
   "cell_type": "markdown",
   "metadata": {
    "id": "3404a13e"
   },
   "source": [
    "## Fit the data with the bronze phase and anatase phase"
   ]
  },
  {
   "cell_type": "markdown",
   "metadata": {
    "id": "d9a5ca02"
   },
   "source": [
    "We found that the secondary phase might be an anatase phase in the last section. We download its CIF file from the database and use it in our next fitting."
   ]
  },
  {
   "cell_type": "code",
   "execution_count": null,
   "metadata": {
    "id": "d796d082"
   },
   "outputs": [],
   "source": [
    "CIF_FILE_A = \"./data/TiO2_anatase.cif\""
   ]
  },
  {
   "cell_type": "markdown",
   "metadata": {
    "id": "37ebc383"
   },
   "source": [
    "We create a model of mixture of bronze and anatase phase. The PDF is the linear combination of two PDFs."
   ]
  },
  {
   "cell_type": "code",
   "execution_count": null,
   "metadata": {
    "id": "f38b14f5"
   },
   "outputs": [],
   "source": [
    "recipe = create_recipe_from_files(\n",
    "    \"sphere1 * bronze + sphere2 * anatase\",\n",
    "    cif_files={\"bronze\": CIF_FILE_B, \"anatase\": CIF_FILE_A},\n",
    "    functions={\n",
    "        \"sphere1\": (F.sphericalCF, [\"r\", \"bronze_size\"]),\n",
    "        \"sphere2\": (F.sphericalCF, [\"r\", \"anatase_size\"])\n",
    "    },\n",
    "    data_file=GR_FILE,\n",
    "    meta_data={\"qdamp\": 0.04, \"qbroad\": 0.02}\n",
    ")"
   ]
  },
  {
   "cell_type": "markdown",
   "metadata": {
    "id": "2f6a0c9e"
   },
   "source": [
    "Since we have refined the bronze phase, we can use `initializeRecipe` to load the refined parameter values in the recipe for the bronze phase so that we can have a better starting point in the parameter space."
   ]
  },
  {
   "cell_type": "code",
   "execution_count": null,
   "metadata": {
    "id": "e7bf3f2b"
   },
   "outputs": [],
   "source": [
    "from diffpy.srfit.fitbase.fitresults import initializeRecipe\n",
    "\n",
    "initializeRecipe(recipe, \"./data/bronze/bronze.res\")"
   ]
  },
  {
   "cell_type": "markdown",
   "metadata": {
    "id": "6d932d9d"
   },
   "source": [
    "We refined the parameters. This time, we use the tag \"scale\", \"lat\", \"adp\", \"delta2\" and \"xyz\" without specifying the name of the phases. It means the free the parameters in that catalog in all phases. It can save us from tedious typing."
   ]
  },
  {
   "cell_type": "code",
   "execution_count": null,
   "metadata": {
    "colab": {
     "base_uri": "https://localhost:8080/"
    },
    "id": "6a4d5be9",
    "outputId": "a742c763-1783-4323-f6de-27a80904a53d"
   },
   "outputs": [],
   "source": [
    "optimize_params(\n",
    "    recipe,\n",
    "    [\n",
    "        [\"scale\", \"lat\"], \n",
    "        [\"adp\", \"delta2\"], \n",
    "        [\"xyz\"], \n",
    "        [\"bronze_size\", \"anatase_size\"]\n",
    "    ],\n",
    "    rmin=1.6,\n",
    "    rmax=20.0,\n",
    "    rstep=0.02,\n",
    "    ftol=1e-4\n",
    ")"
   ]
  },
  {
   "cell_type": "markdown",
   "metadata": {
    "id": "72270812"
   },
   "source": [
    "The fits look better."
   ]
  },
  {
   "cell_type": "code",
   "execution_count": null,
   "metadata": {
    "colab": {
     "base_uri": "https://localhost:8080/",
     "height": 284
    },
    "id": "a7b7538d",
    "outputId": "ed9019a3-2cd1-4603-fa01-f7f156025767"
   },
   "outputs": [],
   "source": [
    "visualize_fits(recipe)"
   ]
  },
  {
   "cell_type": "markdown",
   "metadata": {
    "id": "58f6da76"
   },
   "source": [
    "We save the results in another folder."
   ]
  },
  {
   "cell_type": "code",
   "execution_count": null,
   "metadata": {
    "id": "f5b4ed2f"
   },
   "outputs": [],
   "source": [
    "save_results(recipe, \"./data/bronze_anatase\", \"two_phase\", [\"bronze\", \"anatase\"])"
   ]
  },
  {
   "cell_type": "markdown",
   "metadata": {
    "id": "0c9b22cb"
   },
   "source": [
    "## Fit the data with bronze, anatase and ligand"
   ]
  },
  {
   "cell_type": "markdown",
   "metadata": {
    "id": "1341ca98"
   },
   "source": [
    "We know that the sample contains ligands. These ligands will produce a low frequency signal in the PDF because the standard deviation of the inter-molecular distances is much larger than the distances of atoms in a crystalline nanoparticle. The slow varying trend in the residuals from our last fit look like the signal from the ligands. We would like to include the PDF of the ligand in our model so that we can have a more accurate fits but at the same time, we don't want to deal with the complicated simulation of a bunch of molecules. Thus, we decide to use a analytic function to simulate the ligand PDF. It is a Gaussian damping sinusoidal wave defined in the function below."
   ]
  },
  {
   "cell_type": "code",
   "execution_count": null,
   "metadata": {
    "id": "e6939c70"
   },
   "outputs": [],
   "source": [
    "def ligand_pdf(r: np.ndarray, a: float, s: float, k: float, r0: float) -> np.ndarray:\n",
    "    \"\"\"The Gaussian damping cosine function. Simulate the PDF of the ligand.\n",
    "    \n",
    "    Parameters\n",
    "    ----------\n",
    "    r :\n",
    "        The array of r.\n",
    "    a :\n",
    "        The amplitude of the function.\n",
    "    s :\n",
    "        The decay rate.\n",
    "    k :\n",
    "        The wave vector.\n",
    "    r0 :\n",
    "        The zero phase r value.\n",
    "\n",
    "    Returns\n",
    "    -------\n",
    "    A data array of function values.\n",
    "    \"\"\"\n",
    "    return a * np.exp(-np.square(s * r)) * np.cos(k * (r - r0))"
   ]
  },
  {
   "cell_type": "markdown",
   "metadata": {
    "id": "83239761"
   },
   "source": [
    "We add this function into our model."
   ]
  },
  {
   "cell_type": "code",
   "execution_count": null,
   "metadata": {
    "id": "aee6ab9d"
   },
   "outputs": [],
   "source": [
    "recipe = create_recipe_from_files(\n",
    "    \"sphere1 * bronze + sphere2 * anatase + ligand\",\n",
    "    cif_files={\"bronze\": CIF_FILE_B, \"anatase\": CIF_FILE_A},\n",
    "    functions={\n",
    "        \"sphere1\": (F.sphericalCF, [\"r\", \"bronze_size\"]),\n",
    "        \"sphere2\": (F.sphericalCF, [\"r\", \"anatase_size\"]),\n",
    "        \"ligand\": (ligand_pdf, [\"r\", \"ligand_a\", \"ligand_s\", \"ligand_k\", \"ligand_r0\"])\n",
    "    },\n",
    "    data_file=GR_FILE,\n",
    "    meta_data={\"qdamp\": 0.04, \"qbroad\": 0.02}\n",
    ")"
   ]
  },
  {
   "cell_type": "markdown",
   "metadata": {
    "id": "8b708223"
   },
   "source": [
    "Like last time, we will use the parameter values from the two phase fit in the last section as the starting point."
   ]
  },
  {
   "cell_type": "code",
   "execution_count": null,
   "metadata": {
    "id": "65e635c2"
   },
   "outputs": [],
   "source": [
    "initializeRecipe(recipe, \"./data/bronze_anatase/two_phase.res\")"
   ]
  },
  {
   "cell_type": "markdown",
   "metadata": {
    "id": "174ee462"
   },
   "source": [
    "We set the parameters in our analytic function to be a reasonable value. Below shows the way to do that. All the parameters in the FitRecipe can be set in this way."
   ]
  },
  {
   "cell_type": "code",
   "execution_count": null,
   "metadata": {
    "id": "45521a86"
   },
   "outputs": [],
   "source": [
    "# set the values for the ligand PDF parameters\n",
    "recipe.ligand_a.setValue(-0.01)\n",
    "recipe.ligand_s.setValue(0.1)\n",
    "recipe.ligand_k.setValue(1.5)\n",
    "recipe.ligand_r0.setValue(3.5);"
   ]
  },
  {
   "cell_type": "markdown",
   "metadata": {
    "id": "6f7f0001"
   },
   "source": [
    "Here is the starting point of our fitting."
   ]
  },
  {
   "cell_type": "markdown",
   "metadata": {
    "id": "5eb97e4e"
   },
   "source": [
    "We refine the FitRecipe starting from the ligand because the parameters in the bronze and anatase are loaded from the last refinement and there probably won't be large changes in them."
   ]
  },
  {
   "cell_type": "code",
   "execution_count": null,
   "metadata": {
    "colab": {
     "base_uri": "https://localhost:8080/"
    },
    "id": "c26a23ea",
    "outputId": "0dc7ecc6-bd30-42b7-a1cf-c3e3fe67f04a"
   },
   "outputs": [],
   "source": [
    "optimize_params(\n",
    "    recipe,\n",
    "    [\n",
    "        [\"ligand\"],\n",
    "        [\"scale\", \"lat\"], \n",
    "        [\"adp\", \"delta2\"], \n",
    "        [\"xyz\"], \n",
    "        [\"bronze_size\", \"anatase_size\"]\n",
    "    ],\n",
    "    rmin=1.6,\n",
    "    rmax=20.0,\n",
    "    rstep=0.02,\n",
    "    ftol=1e-4\n",
    ")"
   ]
  },
  {
   "cell_type": "markdown",
   "metadata": {
    "id": "a5c9081c"
   },
   "source": [
    "Now, our fits look even better."
   ]
  },
  {
   "cell_type": "code",
   "execution_count": null,
   "metadata": {
    "colab": {
     "base_uri": "https://localhost:8080/",
     "height": 284
    },
    "id": "1c3775b2",
    "outputId": "5e53f43c-aa1a-4275-fd3c-cb7c72d155b1"
   },
   "outputs": [],
   "source": [
    "visualize_fits(recipe)"
   ]
  },
  {
   "cell_type": "markdown",
   "metadata": {
    "id": "5f79b78a"
   },
   "source": [
    "We save the results in another folder."
   ]
  },
  {
   "cell_type": "code",
   "execution_count": null,
   "metadata": {
    "id": "8cdae7a0"
   },
   "outputs": [],
   "source": [
    "save_results(recipe, \"./data/bronze_anatase_ligand\", \"three_phase\", [\"bronze\", \"anatase\"])"
   ]
  },
  {
   "cell_type": "markdown",
   "metadata": {
    "id": "666791ae"
   },
   "source": [
    "## Fit the data up to 50 Å"
   ]
  },
  {
   "cell_type": "markdown",
   "metadata": {
    "id": "ea5f87d3"
   },
   "source": [
    "We have achieved a good fit and we think that the bronze, anatase, ligand mixture is our answer for what are inside our samples. We need to finally confirm it and obtain the structure parameters from the fitting of the whole range of PDF."
   ]
  },
  {
   "cell_type": "code",
   "execution_count": null,
   "metadata": {
    "id": "5d842828"
   },
   "outputs": [],
   "source": [
    "recipe = create_recipe_from_files(\n",
    "    \"sphere1 * bronze + sphere2 * anatase + ligand\",\n",
    "    cif_files={\"bronze\": CIF_FILE_B, \"anatase\": CIF_FILE_A},\n",
    "    functions={\n",
    "        \"sphere1\": (F.sphericalCF, [\"r\", \"bronze_size\"]),\n",
    "        \"sphere2\": (F.sphericalCF, [\"r\", \"anatase_size\"]),\n",
    "        \"ligand\": (ligand_pdf, [\"r\", \"ligand_a\", \"ligand_s\", \"ligand_k\", \"ligand_r0\"])\n",
    "    },\n",
    "    data_file=GR_FILE,\n",
    "    meta_data={\"qdamp\": 0.04, \"qbroad\": 0.02}\n",
    ")"
   ]
  },
  {
   "cell_type": "code",
   "execution_count": null,
   "metadata": {
    "id": "91404d12"
   },
   "outputs": [],
   "source": [
    "initializeRecipe(recipe, \"./data/bronze_anatase_ligand/three_phase.res\")"
   ]
  },
  {
   "cell_type": "code",
   "execution_count": null,
   "metadata": {
    "colab": {
     "base_uri": "https://localhost:8080/"
    },
    "id": "b76154a3",
    "outputId": "103780be-5bb5-46fb-e39c-c1450468ba9d"
   },
   "outputs": [],
   "source": [
    "optimize_params(\n",
    "    recipe,\n",
    "    [\n",
    "        [\"scale\", \"bronze_size\", \"anatase_size\"], \n",
    "        [\"lat\"], \n",
    "        [\"adp\", \"delta2\"], \n",
    "        [\"xyz\"],\n",
    "        [\"ligand\"],\n",
    "    ],\n",
    "    rmin=1.6,\n",
    "    rmax=50.0,\n",
    "    rstep=0.02,\n",
    "    ftol=1e-4\n",
    ")"
   ]
  },
  {
   "cell_type": "markdown",
   "metadata": {
    "id": "b9bcf68d"
   },
   "source": [
    "The fits look good. However, if we look carefully at the high-$r$ range. The calculated PDF is over-damped. It is likely that the spherical characteristic function doesn't represent the real case of particle size."
   ]
  },
  {
   "cell_type": "code",
   "execution_count": null,
   "metadata": {
    "colab": {
     "base_uri": "https://localhost:8080/",
     "height": 284
    },
    "id": "663f68c2",
    "outputId": "8937a518-77cc-45a2-94c5-3dd4cf49d4f5"
   },
   "outputs": [],
   "source": [
    "visualize_fits(recipe)"
   ]
  },
  {
   "cell_type": "code",
   "execution_count": null,
   "metadata": {
    "colab": {
     "base_uri": "https://localhost:8080/",
     "height": 284
    },
    "id": "db50b674",
    "outputId": "5a6cb2c5-dc11-4eb3-8bae-4b3921061b1b"
   },
   "outputs": [],
   "source": [
    "visualize_fits(recipe, xlim=(30, 50))"
   ]
  },
  {
   "cell_type": "markdown",
   "metadata": {
    "id": "773ee8e1"
   },
   "source": [
    "We save the results in another folder."
   ]
  },
  {
   "cell_type": "code",
   "execution_count": null,
   "metadata": {
    "id": "10e813c2"
   },
   "outputs": [],
   "source": [
    "save_results(recipe, \"./data/bronze_anatase_ligand_50A\", \"three_phase_50A\", [\"bronze\", \"anatase\"])"
   ]
  },
  {
   "cell_type": "markdown",
   "metadata": {
    "id": "f6f77914"
   },
   "source": [
    "## Fit the data with a core-shell model"
   ]
  },
  {
   "cell_type": "markdown",
   "metadata": {
    "id": "85b495c9"
   },
   "source": [
    "Maybe the nanoparticle has a core-shell structure where the bronze phase core is wrapped in the anatase phase shell. In this section, we will try the core-shell model."
   ]
  },
  {
   "cell_type": "code",
   "execution_count": null,
   "metadata": {
    "id": "17cea174"
   },
   "outputs": [],
   "source": [
    "recipe = create_recipe_from_files(\n",
    "    \"core * bronze + shell * anatase + ligand\",\n",
    "    cif_files={\"bronze\": CIF_FILE_B, \"anatase\": CIF_FILE_A},\n",
    "    functions={\n",
    "        \"core\": (F.sphericalCF, [\"r\", \"bronze_diameter\"]),\n",
    "        \"shell\": (F.shellCF, [\"r\", \"bronze_radius\", \"anatase_thickness\"]),\n",
    "        \"ligand\": (ligand_pdf, [\"r\", \"ligand_a\", \"ligand_s\", \"ligand_k\", \"ligand_r0\"])\n",
    "    },\n",
    "    data_file=GR_FILE,\n",
    "    meta_data={\"qdamp\": 0.04, \"qbroad\": 0.02}\n",
    ")"
   ]
  },
  {
   "cell_type": "code",
   "execution_count": null,
   "metadata": {
    "id": "e271771f"
   },
   "outputs": [],
   "source": [
    "initializeRecipe(recipe, \"./data/bronze_anatase_ligand_50A/three_phase_50A.res\")"
   ]
  },
  {
   "cell_type": "code",
   "execution_count": null,
   "metadata": {
    "id": "17b3d17f"
   },
   "outputs": [],
   "source": [
    "recipe.bronze_diameter.setValue(40.)\n",
    "recipe.bronze_radius.setValue(20.)\n",
    "recipe.anatase_thickness.setValue(20.);"
   ]
  },
  {
   "cell_type": "markdown",
   "metadata": {
    "id": "c830f515"
   },
   "source": [
    "Here, we constrain the \"bronze_diameter\" by the \"2 * bronze_radius\" so that the diameter of the bronze phase in the spherical characteristic function will always be determined by the double of inner radius in the shell characteristic function."
   ]
  },
  {
   "cell_type": "code",
   "execution_count": null,
   "metadata": {
    "id": "1a997726"
   },
   "outputs": [],
   "source": [
    "recipe.constrain(\"bronze_diameter\", \"2 * bronze_radius\")"
   ]
  },
  {
   "cell_type": "code",
   "execution_count": null,
   "metadata": {
    "colab": {
     "base_uri": "https://localhost:8080/"
    },
    "id": "e2d6786e",
    "outputId": "4819c6a2-00d1-4136-9cd3-6a3c51022ea7"
   },
   "outputs": [],
   "source": [
    "optimize_params(\n",
    "    recipe,\n",
    "    [\n",
    "        [\"scale\", \"core\", \"shell\"], \n",
    "        [\"lat\"], \n",
    "        [\"adp\", \"delta2\"], \n",
    "        [\"xyz\"],\n",
    "        [\"ligand\"],\n",
    "    ],\n",
    "    rmin=1.6,\n",
    "    rmax=50.0,\n",
    "    rstep=0.02,\n",
    "    ftol=1e-4\n",
    ")"
   ]
  },
  {
   "cell_type": "code",
   "execution_count": null,
   "metadata": {
    "colab": {
     "base_uri": "https://localhost:8080/",
     "height": 284
    },
    "id": "da8ab926",
    "outputId": "bc7d2483-330d-4f05-a3ff-d506529f3988"
   },
   "outputs": [],
   "source": [
    "visualize_fits(recipe)"
   ]
  },
  {
   "cell_type": "code",
   "execution_count": null,
   "metadata": {
    "id": "63987e84"
   },
   "outputs": [],
   "source": [
    "save_results(recipe, \"./data/bronze_anatase_ligand_50A_coreshell\", \"three_phase_50A_coreshell\", [\"bronze\", \"anatase\"])"
   ]
  },
  {
   "cell_type": "markdown",
   "metadata": {
    "id": "163613e4"
   },
   "source": [
    "Let's compare the results from the two fits."
   ]
  },
  {
   "cell_type": "code",
   "execution_count": null,
   "metadata": {
    "id": "50e9335a"
   },
   "outputs": [],
   "source": [
    "def visualize_grs_from_files(\n",
    "        fgr_files: typing.List[str],\n",
    "        xlim: typing.Tuple = None,\n",
    "        ax: plt.Axes = None,\n",
    "        labels: typing.List[str] = None\n",
    ") -> None:\n",
    "    \"\"\"Visualize the G(r) in multiple files.\n",
    "\n",
    "    Parameters\n",
    "    ----------\n",
    "    fgr_files :\n",
    "        A list of files containing the r, g data.\n",
    "    xlim :\n",
    "        The boundary of the x to show in the plot.\n",
    "    ax :\n",
    "        The Axes to show the plot.\n",
    "    labels :\n",
    "        The lables of the curves.\n",
    "\n",
    "    Returns\n",
    "    -------\n",
    "    None.\n",
    "    \"\"\"\n",
    "    if labels is None:\n",
    "        labels = []\n",
    "    if ax is None:\n",
    "        _, ax = plt.subplots()\n",
    "    for fgr_file in fgr_files:\n",
    "        r, g = loadData(fgr_file).T[:2]\n",
    "        if xlim is not None:\n",
    "            sel = np.logical_and(r >= xlim[0], r <= xlim[1])\n",
    "            r = r[sel]\n",
    "            g = g[sel]\n",
    "        # plot figure\n",
    "        ax.plot(r, g, '-')\n",
    "    ax.set_xlabel(r\"$r (\\AA)$\")\n",
    "    ax.set_ylabel(r\"$G (\\AA^{-2})$\")\n",
    "    if labels is not None:\n",
    "        ax.legend(labels, loc=1)\n",
    "    return"
   ]
  },
  {
   "cell_type": "markdown",
   "metadata": {
    "id": "2552e07b"
   },
   "source": [
    "It seems that there is no improvement to the fits at the high-$r$."
   ]
  },
  {
   "cell_type": "code",
   "execution_count": null,
   "metadata": {
    "id": "7ce7e64e"
   },
   "outputs": [],
   "source": [
    "SPHERICAL_FILE = \"./data/bronze_anatase_ligand_50A/three_phase_50A.fgr\"\n",
    "CORESHELL_FILE = \"./data/bronze_anatase_ligand_50A_coreshell/three_phase_50A_coreshell.fgr\""
   ]
  },
  {
   "cell_type": "code",
   "execution_count": null,
   "metadata": {
    "colab": {
     "base_uri": "https://localhost:8080/",
     "height": 393
    },
    "id": "618159db",
    "outputId": "6d6740d2-58b4-46d4-b5ee-0c4872335b9e"
   },
   "outputs": [],
   "source": [
    "fig, ax = plt.subplots(1, 1, figsize=(8, 6))\n",
    "visualize_grs_from_files(\n",
    "    [GR_FILE, SPHERICAL_FILE, CORESHELL_FILE],\n",
    "    xlim=(30, 50),\n",
    "    ax=ax,\n",
    "    labels=[\"Data\", \"Spherical\", \"Core Shell\"]\n",
    ")\n",
    "plt.show()"
   ]
  },
  {
   "cell_type": "markdown",
   "metadata": {
    "id": "529fc977"
   },
   "source": [
    "## Use a spheroidal characteristic function"
   ]
  },
  {
   "cell_type": "markdown",
   "metadata": {
    "id": "2839810c"
   },
   "source": [
    "Maybe the particle shape is not a sphere but a spheroid. We will test this possibility by using the spheroidal characteristic function."
   ]
  },
  {
   "cell_type": "code",
   "execution_count": null,
   "metadata": {
    "id": "ff80fa9c"
   },
   "outputs": [],
   "source": [
    "recipe = create_recipe_from_files(\n",
    "    \"spheroidal * bronze + sphere * anatase + ligand\",\n",
    "    cif_files={\"bronze\": CIF_FILE_B, \"anatase\": CIF_FILE_A},\n",
    "    functions={\n",
    "        \"spheroidal\": (F.spheroidalCF, [\"r\", \"bronze_erad\", \"bronze_prad\"]),\n",
    "        \"sphere\": (F.sphericalCF, [\"r\", \"anatase_size\"]),\n",
    "        \"ligand\": (ligand_pdf, [\"r\", \"ligand_a\", \"ligand_s\", \"ligand_k\", \"ligand_r0\"])\n",
    "    },\n",
    "    data_file=GR_FILE,\n",
    "    meta_data={\"qdamp\": 0.04, \"qbroad\": 0.02}\n",
    ")"
   ]
  },
  {
   "cell_type": "code",
   "execution_count": null,
   "metadata": {
    "id": "02dd5407"
   },
   "outputs": [],
   "source": [
    "initializeRecipe(recipe, \"./data/bronze_anatase_ligand_50A/three_phase_50A.res\")"
   ]
  },
  {
   "cell_type": "code",
   "execution_count": null,
   "metadata": {
    "id": "332f927f"
   },
   "outputs": [],
   "source": [
    "recipe.bronze_erad.setValue(40.0)\n",
    "recipe.bronze_prad.setValue(40.0);"
   ]
  },
  {
   "cell_type": "code",
   "execution_count": null,
   "metadata": {
    "colab": {
     "base_uri": "https://localhost:8080/"
    },
    "id": "22b49f5d",
    "outputId": "e9ab62a6-dab1-4ba2-819a-16e0f627ef49"
   },
   "outputs": [],
   "source": [
    "optimize_params(\n",
    "    recipe,\n",
    "    [\n",
    "        [\"scale\", \"spheroidal\", \"sphere\"], \n",
    "        [\"lat\"], \n",
    "        [\"adp\", \"delta2\"], \n",
    "        [\"xyz\"],\n",
    "        [\"ligand\"],\n",
    "    ],\n",
    "    rmin=1.6,\n",
    "    rmax=50.0,\n",
    "    rstep=0.02,\n",
    "    ftol=1e-4\n",
    ")"
   ]
  },
  {
   "cell_type": "code",
   "execution_count": null,
   "metadata": {
    "colab": {
     "base_uri": "https://localhost:8080/",
     "height": 284
    },
    "id": "15e83665",
    "outputId": "a4e9aa73-d0be-4dd4-f259-3c49a90e461b"
   },
   "outputs": [],
   "source": [
    "visualize_fits(recipe)"
   ]
  },
  {
   "cell_type": "code",
   "execution_count": null,
   "metadata": {
    "id": "0dce02d3"
   },
   "outputs": [],
   "source": [
    "save_results(recipe, \"./data/bronze_anatase_ligand_50A_spheroidal\", \"three_phase_50A_spheroidal\", [\"bronze\", \"anatase\"])"
   ]
  },
  {
   "cell_type": "markdown",
   "metadata": {
    "id": "7fef89e0"
   },
   "source": [
    "There is a improvement of the quality of the fits at the high-$r$. Maybe the shape of the particle is a spheroid."
   ]
  },
  {
   "cell_type": "code",
   "execution_count": null,
   "metadata": {
    "id": "a0e7db73"
   },
   "outputs": [],
   "source": [
    "SPHEROIDAL_FILE = \"./data/bronze_anatase_ligand_50A_spheroidal/three_phase_50A_spheroidal.fgr\""
   ]
  },
  {
   "cell_type": "code",
   "execution_count": null,
   "metadata": {
    "colab": {
     "base_uri": "https://localhost:8080/",
     "height": 393
    },
    "id": "5c9c4be4",
    "outputId": "ff29fa86-d98d-4bdb-b8ad-7d8d4e585d95"
   },
   "outputs": [],
   "source": [
    "fig, ax = plt.subplots(1, 1, figsize=(8, 6))\n",
    "visualize_grs_from_files(\n",
    "    [GR_FILE, SPHERICAL_FILE, CORESHELL_FILE, SPHEROIDAL_FILE],\n",
    "    xlim=(30, 50),\n",
    "    ax=ax,\n",
    "    labels=[\"Data\", \"Spherical\", \"Core Shell\", \"Spheroidal\"]\n",
    ")\n",
    "plt.show()"
   ]
  },
  {
   "cell_type": "markdown",
   "metadata": {
    "id": "c1b6710b"
   },
   "source": [
    "## Use a lognormal spherical characteristic function"
   ]
  },
  {
   "cell_type": "markdown",
   "metadata": {
    "id": "12142c1d"
   },
   "source": [
    "Maybe the particle sizes of the bronze phase nanoparticles are not uniform. They have a distribution. It is likely to be approximated by a lognormal distribution. In this section, we will try the lognormal distribution."
   ]
  },
  {
   "cell_type": "code",
   "execution_count": null,
   "metadata": {
    "id": "55f20d2d"
   },
   "outputs": [],
   "source": [
    "recipe = create_recipe_from_files(\n",
    "    \"lognormal * bronze + sphere * anatase + ligand\",\n",
    "    cif_files={\"bronze\": CIF_FILE_B, \"anatase\": CIF_FILE_A},\n",
    "    functions={\n",
    "        \"lognormal\": (F.lognormalSphericalCF, [\"r\", \"bronze_size_mean\", \"bronze_size_std\"]),\n",
    "        \"sphere\": (F.sphericalCF, [\"r\", \"anatase_size\"]),\n",
    "        \"ligand\": (ligand_pdf, [\"r\", \"ligand_a\", \"ligand_s\", \"ligand_k\", \"ligand_r0\"])\n",
    "    },\n",
    "    data_file=GR_FILE,\n",
    "    meta_data={\"qdamp\": 0.04, \"qbroad\": 0.02}\n",
    ")"
   ]
  },
  {
   "cell_type": "code",
   "execution_count": null,
   "metadata": {
    "id": "02ba2490"
   },
   "outputs": [],
   "source": [
    "initializeRecipe(recipe, \"./data/bronze_anatase_ligand_50A/three_phase_50A.res\")"
   ]
  },
  {
   "cell_type": "code",
   "execution_count": null,
   "metadata": {
    "id": "47ff9f33"
   },
   "outputs": [],
   "source": [
    "recipe.bronze_size_mean.setValue(40.0)\n",
    "recipe.bronze_size_std.setValue(5.0);"
   ]
  },
  {
   "cell_type": "code",
   "execution_count": null,
   "metadata": {
    "colab": {
     "base_uri": "https://localhost:8080/"
    },
    "id": "2426c84a",
    "outputId": "43a4cc71-cc94-41be-8a57-c9f0a5980b64"
   },
   "outputs": [],
   "source": [
    "optimize_params(\n",
    "    recipe,\n",
    "    [\n",
    "        [\"scale\", \"sphere\", \"lognormal\"], \n",
    "        [\"lat\"], \n",
    "        [\"adp\", \"delta2\"], \n",
    "        [\"xyz\"],\n",
    "        [\"ligand\"],\n",
    "    ],\n",
    "    rmin=1.6,\n",
    "    rmax=50.0,\n",
    "    rstep=0.02,\n",
    "    ftol=1e-4\n",
    ")"
   ]
  },
  {
   "cell_type": "code",
   "execution_count": null,
   "metadata": {
    "colab": {
     "base_uri": "https://localhost:8080/",
     "height": 284
    },
    "id": "74f7db78",
    "outputId": "74d79317-9ddb-43dc-c438-0481d2cfb490"
   },
   "outputs": [],
   "source": [
    "visualize_fits(recipe)"
   ]
  },
  {
   "cell_type": "code",
   "execution_count": null,
   "metadata": {
    "id": "87373dc7"
   },
   "outputs": [],
   "source": [
    "save_results(recipe, \"./data/bronze_anatase_ligand_50A_lognormal\", \"three_phase_50A_lognormal\", [\"bronze\", \"anatase\"])"
   ]
  },
  {
   "cell_type": "markdown",
   "metadata": {
    "id": "0d2f86c1"
   },
   "source": [
    "The lognormal spherical distribution function improve the quality of fits at the high-$r$ is slightly better than the spheroid characteristic function. May the size of the particles are not the same value but follows a distribution."
   ]
  },
  {
   "cell_type": "code",
   "execution_count": null,
   "metadata": {
    "id": "acc6b394"
   },
   "outputs": [],
   "source": [
    "LOGNORMAL_FILE = \"./data/bronze_anatase_ligand_50A_lognormal/three_phase_50A_lognormal.fgr\""
   ]
  },
  {
   "cell_type": "code",
   "execution_count": null,
   "metadata": {
    "colab": {
     "base_uri": "https://localhost:8080/",
     "height": 393
    },
    "id": "ede809c2",
    "outputId": "39212b95-de98-463b-c559-df286a4e1d40"
   },
   "outputs": [],
   "source": [
    "fig, ax = plt.subplots(1, 1, figsize=(8, 6))\n",
    "visualize_grs_from_files(\n",
    "    [GR_FILE, SPHERICAL_FILE, CORESHELL_FILE, SPHEROIDAL_FILE, LOGNORMAL_FILE],\n",
    "    xlim=(30, 50),\n",
    "    ax=ax,\n",
    "    labels=[\"Data\", \"Spherical\", \"Core Shell\", \"Spheroidal\", \"Lognormal Spherical\"]\n",
    ")\n",
    "plt.show()"
   ]
  },
  {
   "cell_type": "markdown",
   "metadata": {
    "id": "f2414e24"
   },
   "source": [
    "## Particle size"
   ]
  },
  {
   "cell_type": "markdown",
   "metadata": {
    "id": "bb8f5387"
   },
   "source": [
    "Below shows the TEM image of the sample taken before the ligand was added. The particles are not in the same size while at the same time not perfectly spherical.\n",
    "\n",
    "![TEM](https://github.com/st3107/20210818_iucr_diffpy_talk/blob/main/notebooks/data/tem.png?raw=1)"
   ]
  },
  {
   "cell_type": "markdown",
   "metadata": {
    "id": "7bf930a1"
   },
   "source": [
    "The TEM results show that the particles size in average is 75 Å while result from the PDF fitting using the spherical characteristic function is 50 Å. This is normal because the particle size in the characteristic function is the size of the domain of structural order, which cannot be larger than the physical size of the particle but in general is smaller due to disorder. This value thus may be smaller than what we saw in the TEM."
   ]
  },
  {
   "cell_type": "markdown",
   "metadata": {
    "id": "29c47315"
   },
   "source": [
    "## Summary"
   ]
  },
  {
   "cell_type": "markdown",
   "metadata": {
    "id": "fd96b1d0"
   },
   "source": [
    "We reveals that the sample consists of bronze TiO2 nanoparticles and anatase TiO2 nanoparticles and ligands. The bronze TiO2 nanoparticle is the majority as our collaborators expect and the anatase an impurity phase. Its proportion is about 9 %."
   ]
  },
  {
   "cell_type": "code",
   "execution_count": null,
   "metadata": {
    "colab": {
     "base_uri": "https://localhost:8080/"
    },
    "id": "b5c8d283",
    "outputId": "0ee74084-9a8a-4a2f-e602-cc92d4e8e3ca"
   },
   "outputs": [],
   "source": [
    "3.56452857e-02 / (3.44354912e-01 + 3.56452857e-02) * 100"
   ]
  },
  {
   "cell_type": "markdown",
   "metadata": {
    "id": "5d7d274a"
   },
   "source": [
    "The particle size of bronze phase is about 50 Å while the particle size of anatase phase is about 70 Å. The structure parameters of them are shown below."
   ]
  },
  {
   "cell_type": "code",
   "execution_count": null,
   "metadata": {
    "colab": {
     "base_uri": "https://localhost:8080/"
    },
    "id": "9c8914a2",
    "outputId": "318c1640-59c6-4be0-90e3-44437b1ea868"
   },
   "outputs": [],
   "source": [
    "!cat \"./data/bronze_anatase_ligand_50A/three_phase_50A.res\""
   ]
  },
  {
   "cell_type": "markdown",
   "metadata": {
    "id": "3d070d14"
   },
   "source": [
    "In this tutorial, we have introduced an universal way to build models to fit the PDF data using diffpy-cmi. The users can not only use any characteristic functions and structures in their models but also define their own calculators as python functions and refine the parameters in it. It offers the users the freedom to create and refine models beyond the traditional ways of multi-phase modeling where the PDF can only be calculated by the structures and a limited number of predefined characteristic functions."
   ]
  }
 ],
 "metadata": {
  "colab": {
   "collapsed_sections": [],
   "include_colab_link": true,
   "name": "02_example_script_for_colab.ipynb",
   "provenance": []
  },
  "kernelspec": {
   "display_name": "Python 3",
   "language": "python",
   "name": "python3"
  },
  "language_info": {
   "codemirror_mode": {
    "name": "ipython",
    "version": 3
   },
   "file_extension": ".py",
   "mimetype": "text/x-python",
   "name": "python",
   "nbconvert_exporter": "python",
   "pygments_lexer": "ipython3",
   "version": "3.7.4"
  }
 },
 "nbformat": 4,
 "nbformat_minor": 5
}
